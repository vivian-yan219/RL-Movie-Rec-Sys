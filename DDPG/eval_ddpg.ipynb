{
 "cells": [
  {
   "cell_type": "markdown",
   "metadata": {},
   "source": [
    "# Load data"
   ]
  },
  {
   "cell_type": "code",
   "execution_count": 2,
   "metadata": {},
   "outputs": [],
   "source": [
    "import numpy as np\n",
    "import pandas as pd\n",
    "import os"
   ]
  },
  {
   "cell_type": "code",
   "execution_count": 3,
   "metadata": {},
   "outputs": [
    {
     "name": "stdout",
     "output_type": "stream",
     "text": [
      "Data loading...\n",
      "Data loading complete!\n",
      "Data preprocessing...\n"
     ]
    }
   ],
   "source": [
    "print('Data loading...')\n",
    "\n",
    "ROOT_DIR = '/Users/vivianyan/Desktop/Reinforcement-Learning/Project/RL-Movie-Rec-Sys'\n",
    "DATA_DIR = os.path.join(ROOT_DIR, 'ml-100k')\n",
    "\n",
    "ratings_list = [i.strip().split(\"\\t\") for i in open(os.path.join(DATA_DIR,'mod_ratings.csv'), 'r').readlines()]\n",
    "ratings_df = pd.DataFrame(ratings_list[1:], columns = ['userId', 'movieId', 'rating', 'timestamp'])\n",
    "ratings_df['userId'] = ratings_df['userId'].apply(pd.to_numeric)\n",
    "ratings_df['movieId'] = ratings_df['movieId'].apply(pd.to_numeric)\n",
    "ratings_df['rating'] = ratings_df['rating'].astype(float)\n",
    "\n",
    "movies_list = [i.strip().split(\"\\t\") for i in open(os.path.join(DATA_DIR,'mod_movies.csv'),encoding='latin-1').readlines()]\n",
    "movies_df = pd.DataFrame(movies_list[1:], columns = ['movieId', 'title', 'genres'])\n",
    "movies_df['movieId'] = movies_df['movieId'].apply(pd.to_numeric)\n",
    "\n",
    "users_list = [i.strip().split(\"\\t\") for i in open(os.path.join(DATA_DIR,'users.csv'), 'r').readlines()]\n",
    "users_df = pd.DataFrame(users_list[1:], columns=['userId', 'gender', 'age', 'occupation', 'zip'])\n",
    "\n",
    "tags_list = [i.strip().split(\"\\t\") for i in open(os.path.join(DATA_DIR,'mod_tags.csv'), 'r').readlines()]\n",
    "tags_df = pd.DataFrame(tags_list[1:], columns=['userId', 'movieId', 'tag', 'timestamp'])\n",
    "tags_df['userId'] = tags_df['userId'].apply(pd.to_numeric)\n",
    "tags_df['movieId'] = tags_df['movieId'].apply(pd.to_numeric)\n",
    "\n",
    "print(\"Data loading complete!\")\n",
    "print(\"Data preprocessing...\")"
   ]
  },
  {
   "cell_type": "markdown",
   "metadata": {},
   "source": [
    "# Generate evaluation data\n",
    "* movies_id_to_movies={movieId: [title, genres],}\n",
    "* users_dict={userId:[movieId, rating],}\n",
    "* users_history_lens=[length,]"
   ]
  },
  {
   "cell_type": "code",
   "execution_count": 4,
   "metadata": {},
   "outputs": [
    {
     "name": "stdout",
     "output_type": "stream",
     "text": [
      "9743\n"
     ]
    },
    {
     "data": {
      "text/plain": [
       "{'1': ['Toy Story (1995)', 'Adventure|Animation|Children|Comedy|Fantasy'],\n",
       " '2': ['Jumanji (1995)', 'Adventure|Children|Fantasy'],\n",
       " '3': ['Grumpier Old Men (1995)', 'Comedy|Romance'],\n",
       " '4': ['Waiting to Exhale (1995)', 'Comedy|Drama|Romance'],\n",
       " '5': ['Father of the Bride Part II (1995)', 'Comedy'],\n",
       " '6': ['Heat (1995)', 'Action|Crime|Thriller'],\n",
       " '7': ['Sabrina (1995)', 'Comedy|Romance'],\n",
       " '8': ['Tom and Huck (1995)', 'Adventure|Children'],\n",
       " '9': ['Sudden Death (1995)', 'Action'],\n",
       " '10': ['GoldenEye (1995)', 'Action|Adventure|Thriller']}"
      ]
     },
     "execution_count": 4,
     "metadata": {},
     "output_type": "execute_result"
    }
   ],
   "source": [
    "print(len(movies_list))\n",
    "movies_id_to_movies = {movie[0]: movie[1:] for movie in movies_list[1:]}\n",
    "dict(list(movies_id_to_movies.items())[:10])"
   ]
  },
  {
   "cell_type": "code",
   "execution_count": 5,
   "metadata": {},
   "outputs": [
    {
     "name": "stdout",
     "output_type": "stream",
     "text": [
      "User dict (10 examples of UserId=1): [(1210, 5.0), (1210, 5.0), (804, 4.0), (804, 4.0), (2018, 5.0), (2018, 5.0), (2826, 4.0), (2826, 4.0), (2628, 4.0), (2628, 4.0)]\n",
      "Length of user dict history: 610\n"
     ]
    }
   ],
   "source": [
    "users_dict = {user: [] for user in set(ratings_df[\"userId\"])}\n",
    "filtered_users_dict = users_dict.copy()\n",
    "\n",
    "# sort the dataset by time\n",
    "ratings_df = ratings_df.sort_values(by='timestamp', ascending=True)\n",
    "\n",
    "for idx, row in ratings_df.iterrows():\n",
    "    users_dict[row['userId']].append((row['movieId'], row['rating']))\n",
    "    if row['rating'] >= 4.0:\n",
    "        filtered_users_dict[row['userId']].append((row['movieId'], row['rating']))\n",
    "\n",
    "print(f'User dict (10 examples of UserId=1): {users_dict[1][:10]}')\n",
    "\n",
    "users_history_lens = [len(filtered_users_dict[u]) for u in set(ratings_df[\"userId\"])]\n",
    "print(f'Length of user dict history: {len(users_history_lens)}')"
   ]
  },
  {
   "cell_type": "code",
   "execution_count": 6,
   "metadata": {},
   "outputs": [],
   "source": [
    "np.save(os.path.join(os.getcwd(), \"data/user_dict.npy\"), users_dict)\n",
    "np.save(os.path.join(os.getcwd(), \"data/users_histroy_len.npy\"), users_history_lens)"
   ]
  },
  {
   "cell_type": "markdown",
   "metadata": {},
   "source": [
    "# Train evaluation split"
   ]
  },
  {
   "cell_type": "code",
   "execution_count": 7,
   "metadata": {},
   "outputs": [
    {
     "name": "stdout",
     "output_type": "stream",
     "text": [
      "# users: 611, # movies: 193610\n"
     ]
    }
   ],
   "source": [
    "users_num = max(ratings_df['userId']) + 1\n",
    "movies_num = max(ratings_df['movieId']) + 1\n",
    "print(f'# users: {users_num}, # movies: {movies_num}')"
   ]
  },
  {
   "cell_type": "code",
   "execution_count": 8,
   "metadata": {},
   "outputs": [
    {
     "name": "stdout",
     "output_type": "stream",
     "text": [
      "Training set: \n",
      "# users: 488, # movies: 193610\n",
      "Length of users dict: 488, Length of users history lens: 488\n"
     ]
    }
   ],
   "source": [
    "train_users_num = int(users_num * 0.8)\n",
    "train_movies_num = movies_num\n",
    "print(f'Training set: \\n# users: {train_users_num}, # movies: {train_movies_num}')\n",
    "\n",
    "train_users_dict = {k: users_dict[k] for k in range(1, train_users_num+1)}\n",
    "train_users_history_lens = users_history_lens[:train_users_num]\n",
    "print(f'Length of users dict: {len(train_users_dict)}, Length of users history lens: {len(train_users_history_lens)}')"
   ]
  },
  {
   "cell_type": "code",
   "execution_count": 9,
   "metadata": {},
   "outputs": [
    {
     "name": "stdout",
     "output_type": "stream",
     "text": [
      "Evaluation set: \n",
      "# users: 122, # movies: 193610\n",
      "Length of users dict: 122, Length of users history lens: 122\n"
     ]
    }
   ],
   "source": [
    "eval_users_num = int(users_num * 0.2)\n",
    "eval_movies_num = movies_num\n",
    "print(f'Evaluation set: \\n# users: {eval_users_num}, # movies: {eval_movies_num}')\n",
    "\n",
    "eval_users_dict = {k: users_dict[k] for k in range(users_num-eval_users_num, users_num)}\n",
    "eval_users_history_lens = users_history_lens[-eval_users_num:]\n",
    "print(f'Length of users dict: {len(eval_users_dict)}, Length of users history lens: {len(eval_users_history_lens)}')"
   ]
  },
  {
   "cell_type": "markdown",
   "metadata": {},
   "source": [
    "# Evaluation\n",
    "Variables:\n",
    "* movies_id_to_movies={movieId: [title, genres],}\n",
    "* users_dict={userId:[movieId, rating],}\n",
    "* users_history_lens=[length,]\n",
    "* users_num=611\n",
    "* movies_num=193610"
   ]
  },
  {
   "cell_type": "code",
   "execution_count": null,
   "metadata": {},
   "outputs": [],
   "source": [
    "import tensorflow as tf\n",
    "import itertools\n",
    "import time\n",
    "\n",
    "from envs import OfflineEnv\n",
    "from ddpg import DDPGAgent"
   ]
  },
  {
   "cell_type": "code",
   "execution_count": null,
   "metadata": {},
   "outputs": [],
   "source": [
    "def evaluate(recommender, env, check_movies=False, top_k=10):\n",
    "    episode_reward = 0\n",
    "    steps = 0\n",
    "    mean_precision = 0\n",
    "    mean_ndcg = 0\n",
    "    mean_recall = 0\n",
    "    mean_ap = 0\n",
    "\n",
    "    user_id, items_ids, done = env.reset()\n",
    "    if check_movies:\n",
    "        print(f'user_id : {user_id}, rated_items_length:{len(env.user_items)}')\n",
    "        print('history items : \\n', np.array(env.get_items_names(items_ids)))\n",
    "\n",
    "    while not done:\n",
    "        user_eb = recommender.embedding_network.get_layer('user_embedding')(np.array(user_id))\n",
    "        items_eb = recommender.embedding_network.get_layer('movie_embedding')(np.array(items_ids))\n",
    "        \n",
    "        state = recommender.srm_ave([np.expand_dims(user_eb, axis=0), np.expand_dims(items_eb, axis=0)])\n",
    "        \n",
    "        action = recommender.actor.network(state)\n",
    "        \n",
    "        recommended_item = recommender.recommend_item(action, env.recommended_items, top_k=top_k)\n",
    "        if check_movies:\n",
    "            print(f'recommended items ids : {recommended_item}')\n",
    "            print(f'recommened items : \\n {np.array(env.get_items_names(recommended_item), dtype=object)}')\n",
    "        \n",
    "        next_items_ids, reward, done, _ = env.step(recommended_item, top_k=top_k)\n",
    "        if top_k:\n",
    "            correct_list = [1 if r > 0 else 0 for r in reward]\n",
    "            # ndcg\n",
    "            dcg, idcg = calculate_ndcg(correct_list, [1 for _ in range(len(reward))])\n",
    "            mean_ndcg += dcg/idcg\n",
    "            \n",
    "            #precision\n",
    "            correct_num = top_k-correct_list.count(0)\n",
    "            mean_precision += correct_num/top_k\n",
    "\n",
    "            # recall\n",
    "            if hasattr(env, 'num_relevant_items') and env.num_relevant_items > 0:\n",
    "                recall_k = correct_num / env.num_relevant_items\n",
    "            else:\n",
    "                recall_k = 0\n",
    "            mean_recall += recall_k\n",
    "\n",
    "            # AP@k (average precision at k)\n",
    "            num_hits = 0\n",
    "            ap_sum = 0.0\n",
    "            for idx, rel in enumerate(correct_list):\n",
    "                if rel == 1:\n",
    "                    num_hits += 1\n",
    "                    ap_sum += num_hits / (idx + 1)\n",
    "            average_precision = ap_sum / max(correct_list.count(1), 1)\n",
    "            mean_ap += average_precision\n",
    "\n",
    "            \n",
    "        reward = np.sum(reward)\n",
    "        items_ids = next_items_ids\n",
    "        episode_reward += reward\n",
    "        steps += 1\n",
    "        \n",
    "        if check_movies:\n",
    "            print(f'precision : {correct_num/top_k}, dcg : {dcg:0.3f}, idcg : {idcg:0.3f}, ndcg : {dcg/idcg:0.3f}, reward : {reward}')\n",
    "            print()\n",
    "        break\n",
    "    \n",
    "    if check_movies:\n",
    "        print(f'precision : {mean_precision/steps}, ngcg : {mean_ndcg/steps}, recall : {mean_recall/steps}, MAP : {mean_ap/steps}, episode_reward : {episode_reward}')\n",
    "        print()\n",
    "    \n",
    "    return mean_precision/steps, mean_ndcg/steps, mean_recall/steps, mean_ap/steps\n",
    "\n",
    "def calculate_ndcg(rel, irel):\n",
    "    dcg = 0\n",
    "    idcg = 0\n",
    "    rel = [1 if r>0 else 0 for r in rel]\n",
    "    for i, (r, ir) in enumerate(zip(rel, irel)):\n",
    "        dcg += (r)/np.log2(i+2)\n",
    "        idcg += (ir)/np.log2(i+2)\n",
    "    return dcg, idcg"
   ]
  },
  {
   "cell_type": "code",
   "execution_count": null,
   "metadata": {},
   "outputs": [],
   "source": [
    "# get the saved model dir\n",
    "saved_actor = './save_model/trail-2022-12-13-04/actor_10_fixed.h5'\n",
    "saved_critic = './save_model/trail-2022-12-13-04/critic_10_fixed.h5'"
   ]
  },
  {
   "cell_type": "code",
   "execution_count": null,
   "metadata": {},
   "outputs": [],
   "source": [
    "tf.keras.backend.set_floatx('float64')\n",
    "\n",
    "STATE_SIZE = 10\n",
    "TOP_K = 10 \n",
    "\n",
    "sum_precision = 0\n",
    "sum_ndcg = 0\n",
    "sum_recall = 0\n",
    "sum_map = 0\n",
    "\n",
    "end_evaluation = 10\n",
    "\n",
    "for i, user_id in enumerate(eval_users_dict.keys()):\n",
    "    env = OfflineEnv(eval_users_dict, eval_users_history_lens, movies_id_to_movies, STATE_SIZE, fix_user_id=user_id)\n",
    "    recommender = DDPGAgent(env, users_num, movies_num, STATE_SIZE)\n",
    "    recommender.actor.build_networks()\n",
    "    recommender.critic.build_networks()\n",
    "    recommender.load_model(saved_actor, saved_critic)\n",
    "\n",
    "    precision, ndcg, recall, map = evaluate(recommender, env, check_movies=True, top_k=TOP_K) # if check movies is true, you can check the recommended movies\n",
    "    sum_precision += precision\n",
    "    sum_ndcg += ndcg\n",
    "    sum_recall += recall\n",
    "    sum_map += map\n",
    "    \n",
    "    if i > end_evaluation:\n",
    "        break\n",
    "    \n",
    "print(f'precision@{TOP_K} : {sum_precision/len(eval_users_dict)}, ndcg@{TOP_K} : {sum_ndcg/len(eval_users_dict)}, recall@{TOP_K} : {sum_recall/len(eval_users_dict)}, MAP@{TOP_K} : {sum_map/len(eval_users_dict)}')"
   ]
  },
  {
   "cell_type": "markdown",
   "metadata": {},
   "source": []
  }
 ],
 "metadata": {
  "kernelspec": {
   "display_name": "ddpg",
   "language": "python",
   "name": "python3"
  },
  "language_info": {
   "codemirror_mode": {
    "name": "ipython",
    "version": 3
   },
   "file_extension": ".py",
   "mimetype": "text/x-python",
   "name": "python",
   "nbconvert_exporter": "python",
   "pygments_lexer": "ipython3",
   "version": "3.9.21"
  }
 },
 "nbformat": 4,
 "nbformat_minor": 2
}
