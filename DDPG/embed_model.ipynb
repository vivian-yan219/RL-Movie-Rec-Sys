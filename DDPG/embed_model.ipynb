{
 "cells": [
  {
   "cell_type": "code",
   "execution_count": 1,
   "metadata": {},
   "outputs": [],
   "source": [
    "import pandas as pd\n",
    "import numpy as np\n",
    "import itertools\n",
    "import logging, os\n",
    "\n",
    "logging.disable(logging.WARNING)\n",
    "os.environ[\"TF_CPP_MIN_LOG_LEVEL\"] = \"3\"\n",
    "\n",
    "import tensorflow as tf\n",
    "import matplotlib.pyplot as plt\n",
    "import plotly.express as px\n",
    "import time\n",
    "import tqdm\n",
    "\n",
    "ROOT_DIR = os.getcwd()\n",
    "DATA_DIR = '/Users/vivianyan/Desktop/Reinforcement-Learning/Project/RL-Movie-Rec-Sys/ml-100k'\n",
    "STATE_SIZE = 10"
   ]
  },
  {
   "cell_type": "code",
   "execution_count": 2,
   "metadata": {},
   "outputs": [],
   "source": [
    "from tensorflow.keras.layers import InputLayer, Embedding, Dot, Reshape, Dense\n",
    "from tensorflow.keras.models import Model"
   ]
  },
  {
   "cell_type": "markdown",
   "metadata": {},
   "source": [
    "# Load data"
   ]
  },
  {
   "cell_type": "code",
   "execution_count": 7,
   "metadata": {},
   "outputs": [],
   "source": [
    "ratings_list = [i.strip().split(\"\\t\") for i in open(os.path.join(DATA_DIR,'mod_ratings.csv'), 'r').readlines()]\n",
    "ratings_df = pd.DataFrame(ratings_list[1:], columns = ['userId', 'movieId', 'rating', 'timestamp'])\n",
    "ratings_df['userId'] = ratings_df['userId'].apply(pd.to_numeric)\n",
    "ratings_df['movieId'] = ratings_df['movieId'].apply(pd.to_numeric)\n",
    "ratings_df['rating'] = ratings_df['rating'].astype(float)\n",
    "\n",
    "movies_list = [i.strip().split(\"\\t\") for i in open(os.path.join(DATA_DIR,'mod_movies.csv'),encoding='latin-1').readlines()]\n",
    "movies_df = pd.DataFrame(movies_list[1:], columns = ['movieId', 'title', 'genres'])\n",
    "movies_df['movieId'] = movies_df['movieId'].apply(pd.to_numeric)\n",
    "\n",
    "users_list = [i.strip().split(\"\\t\") for i in open(os.path.join(DATA_DIR,'users.csv'), 'r').readlines()]\n",
    "users_df = pd.DataFrame(users_list[1:], columns=['userId', 'gender', 'age', 'occupation', 'zip'])"
   ]
  },
  {
   "cell_type": "code",
   "execution_count": 10,
   "metadata": {},
   "outputs": [
    {
     "data": {
      "text/html": [
       "<div>\n",
       "<style scoped>\n",
       "    .dataframe tbody tr th:only-of-type {\n",
       "        vertical-align: middle;\n",
       "    }\n",
       "\n",
       "    .dataframe tbody tr th {\n",
       "        vertical-align: top;\n",
       "    }\n",
       "\n",
       "    .dataframe thead th {\n",
       "        text-align: right;\n",
       "    }\n",
       "</style>\n",
       "<table border=\"1\" class=\"dataframe\">\n",
       "  <thead>\n",
       "    <tr style=\"text-align: right;\">\n",
       "      <th></th>\n",
       "      <th>userId</th>\n",
       "      <th>movieId</th>\n",
       "      <th>rating</th>\n",
       "      <th>timestamp</th>\n",
       "    </tr>\n",
       "  </thead>\n",
       "  <tbody>\n",
       "    <tr>\n",
       "      <th>0</th>\n",
       "      <td>1</td>\n",
       "      <td>1</td>\n",
       "      <td>4.0</td>\n",
       "      <td>964982703</td>\n",
       "    </tr>\n",
       "    <tr>\n",
       "      <th>1</th>\n",
       "      <td>1</td>\n",
       "      <td>3</td>\n",
       "      <td>4.0</td>\n",
       "      <td>964981247</td>\n",
       "    </tr>\n",
       "    <tr>\n",
       "      <th>2</th>\n",
       "      <td>1</td>\n",
       "      <td>6</td>\n",
       "      <td>4.0</td>\n",
       "      <td>964982224</td>\n",
       "    </tr>\n",
       "    <tr>\n",
       "      <th>3</th>\n",
       "      <td>1</td>\n",
       "      <td>47</td>\n",
       "      <td>5.0</td>\n",
       "      <td>964983815</td>\n",
       "    </tr>\n",
       "    <tr>\n",
       "      <th>4</th>\n",
       "      <td>1</td>\n",
       "      <td>50</td>\n",
       "      <td>5.0</td>\n",
       "      <td>964982931</td>\n",
       "    </tr>\n",
       "  </tbody>\n",
       "</table>\n",
       "</div>"
      ],
      "text/plain": [
       "   userId  movieId  rating  timestamp\n",
       "0       1        1     4.0  964982703\n",
       "1       1        3     4.0  964981247\n",
       "2       1        6     4.0  964982224\n",
       "3       1       47     5.0  964983815\n",
       "4       1       50     5.0  964982931"
      ]
     },
     "execution_count": 10,
     "metadata": {},
     "output_type": "execute_result"
    }
   ],
   "source": [
    "ratings_df.head(5)"
   ]
  },
  {
   "cell_type": "code",
   "execution_count": 9,
   "metadata": {},
   "outputs": [
    {
     "name": "stdout",
     "output_type": "stream",
     "text": [
      "9743\n"
     ]
    },
    {
     "data": {
      "text/html": [
       "<div>\n",
       "<style scoped>\n",
       "    .dataframe tbody tr th:only-of-type {\n",
       "        vertical-align: middle;\n",
       "    }\n",
       "\n",
       "    .dataframe tbody tr th {\n",
       "        vertical-align: top;\n",
       "    }\n",
       "\n",
       "    .dataframe thead th {\n",
       "        text-align: right;\n",
       "    }\n",
       "</style>\n",
       "<table border=\"1\" class=\"dataframe\">\n",
       "  <thead>\n",
       "    <tr style=\"text-align: right;\">\n",
       "      <th></th>\n",
       "      <th>movieId</th>\n",
       "      <th>title</th>\n",
       "      <th>genres</th>\n",
       "    </tr>\n",
       "  </thead>\n",
       "  <tbody>\n",
       "    <tr>\n",
       "      <th>0</th>\n",
       "      <td>1</td>\n",
       "      <td>Toy Story (1995)</td>\n",
       "      <td>Adventure|Animation|Children|Comedy|Fantasy</td>\n",
       "    </tr>\n",
       "    <tr>\n",
       "      <th>1</th>\n",
       "      <td>2</td>\n",
       "      <td>Jumanji (1995)</td>\n",
       "      <td>Adventure|Children|Fantasy</td>\n",
       "    </tr>\n",
       "    <tr>\n",
       "      <th>2</th>\n",
       "      <td>3</td>\n",
       "      <td>Grumpier Old Men (1995)</td>\n",
       "      <td>Comedy|Romance</td>\n",
       "    </tr>\n",
       "    <tr>\n",
       "      <th>3</th>\n",
       "      <td>4</td>\n",
       "      <td>Waiting to Exhale (1995)</td>\n",
       "      <td>Comedy|Drama|Romance</td>\n",
       "    </tr>\n",
       "    <tr>\n",
       "      <th>4</th>\n",
       "      <td>5</td>\n",
       "      <td>Father of the Bride Part II (1995)</td>\n",
       "      <td>Comedy</td>\n",
       "    </tr>\n",
       "  </tbody>\n",
       "</table>\n",
       "</div>"
      ],
      "text/plain": [
       "   movieId                               title  \\\n",
       "0        1                    Toy Story (1995)   \n",
       "1        2                      Jumanji (1995)   \n",
       "2        3             Grumpier Old Men (1995)   \n",
       "3        4            Waiting to Exhale (1995)   \n",
       "4        5  Father of the Bride Part II (1995)   \n",
       "\n",
       "                                        genres  \n",
       "0  Adventure|Animation|Children|Comedy|Fantasy  \n",
       "1                   Adventure|Children|Fantasy  \n",
       "2                               Comedy|Romance  \n",
       "3                         Comedy|Drama|Romance  \n",
       "4                                       Comedy  "
      ]
     },
     "execution_count": 9,
     "metadata": {},
     "output_type": "execute_result"
    }
   ],
   "source": [
    "movies_id_to_movies = {movie[0]: movie[1:] for movie in movies_list[1:]}\n",
    "print(len(movies_list))\n",
    "movies_df.head(5)"
   ]
  },
  {
   "cell_type": "code",
   "execution_count": 17,
   "metadata": {},
   "outputs": [],
   "source": [
    "genres = ['Action',\n",
    "        'Adventure',\n",
    "        'Animation',\n",
    "        \"Children\",\n",
    "        'Comedy',\n",
    "        'Crime',\n",
    "        'Documentary',\n",
    "        'Drama',\n",
    "        'Fantasy',\n",
    "        'Film-Noir',\n",
    "        'Horror',\n",
    "        'Musical',\n",
    "        'Mystery',\n",
    "        'Romance',\n",
    "        'Sci-Fi',\n",
    "        'Thriller',\n",
    "        'War',\n",
    "        'Western',\n",
    "        '(no genres listed)',\n",
    "        'IMAX']"
   ]
  },
  {
   "cell_type": "markdown",
   "metadata": {},
   "source": [
    "# Movie Genre Model\n",
    "## Movie Genre dataframe"
   ]
  },
  {
   "cell_type": "code",
   "execution_count": 15,
   "metadata": {},
   "outputs": [
    {
     "data": {
      "text/html": [
       "<div>\n",
       "<style scoped>\n",
       "    .dataframe tbody tr th:only-of-type {\n",
       "        vertical-align: middle;\n",
       "    }\n",
       "\n",
       "    .dataframe tbody tr th {\n",
       "        vertical-align: top;\n",
       "    }\n",
       "\n",
       "    .dataframe thead th {\n",
       "        text-align: right;\n",
       "    }\n",
       "</style>\n",
       "<table border=\"1\" class=\"dataframe\">\n",
       "  <thead>\n",
       "    <tr style=\"text-align: right;\">\n",
       "      <th></th>\n",
       "      <th>movieId</th>\n",
       "      <th>genres</th>\n",
       "    </tr>\n",
       "  </thead>\n",
       "  <tbody>\n",
       "    <tr>\n",
       "      <th>0</th>\n",
       "      <td>1</td>\n",
       "      <td>Adventure|Animation|Children|Comedy|Fantasy</td>\n",
       "    </tr>\n",
       "    <tr>\n",
       "      <th>1</th>\n",
       "      <td>2</td>\n",
       "      <td>Adventure|Children|Fantasy</td>\n",
       "    </tr>\n",
       "    <tr>\n",
       "      <th>2</th>\n",
       "      <td>3</td>\n",
       "      <td>Comedy|Romance</td>\n",
       "    </tr>\n",
       "    <tr>\n",
       "      <th>3</th>\n",
       "      <td>4</td>\n",
       "      <td>Comedy|Drama|Romance</td>\n",
       "    </tr>\n",
       "    <tr>\n",
       "      <th>4</th>\n",
       "      <td>5</td>\n",
       "      <td>Comedy</td>\n",
       "    </tr>\n",
       "  </tbody>\n",
       "</table>\n",
       "</div>"
      ],
      "text/plain": [
       "   movieId                                       genres\n",
       "0        1  Adventure|Animation|Children|Comedy|Fantasy\n",
       "1        2                   Adventure|Children|Fantasy\n",
       "2        3                               Comedy|Romance\n",
       "3        4                         Comedy|Drama|Romance\n",
       "4        5                                       Comedy"
      ]
     },
     "execution_count": 15,
     "metadata": {},
     "output_type": "execute_result"
    }
   ],
   "source": [
    "movies_genres_df = movies_df[['movieId', 'genres']]\n",
    "movies_genres_df.head(5)"
   ]
  },
  {
   "cell_type": "code",
   "execution_count": 18,
   "metadata": {},
   "outputs": [
    {
     "name": "stderr",
     "output_type": "stream",
     "text": [
      "/var/folders/sv/tqkwxbbd1l96g8tr45l86pmw0000gn/T/ipykernel_29068/1020614315.py:8: SettingWithCopyWarning: \n",
      "A value is trying to be set on a copy of a slice from a DataFrame.\n",
      "Try using .loc[row_indexer,col_indexer] = value instead\n",
      "\n",
      "See the caveats in the documentation: https://pandas.pydata.org/pandas-docs/stable/user_guide/indexing.html#returning-a-view-versus-a-copy\n",
      "  movies_genres_df['genres'] = movies_genres_df['genres'].map(lambda x : _split_and_index(x))\n"
     ]
    },
    {
     "data": {
      "text/html": [
       "<div>\n",
       "<style scoped>\n",
       "    .dataframe tbody tr th:only-of-type {\n",
       "        vertical-align: middle;\n",
       "    }\n",
       "\n",
       "    .dataframe tbody tr th {\n",
       "        vertical-align: top;\n",
       "    }\n",
       "\n",
       "    .dataframe thead th {\n",
       "        text-align: right;\n",
       "    }\n",
       "</style>\n",
       "<table border=\"1\" class=\"dataframe\">\n",
       "  <thead>\n",
       "    <tr style=\"text-align: right;\">\n",
       "      <th></th>\n",
       "      <th>movieId</th>\n",
       "      <th>genres</th>\n",
       "    </tr>\n",
       "  </thead>\n",
       "  <tbody>\n",
       "    <tr>\n",
       "      <th>0</th>\n",
       "      <td>1</td>\n",
       "      <td>[1, 2, 3, 4, 8]</td>\n",
       "    </tr>\n",
       "    <tr>\n",
       "      <th>1</th>\n",
       "      <td>2</td>\n",
       "      <td>[1, 3, 8]</td>\n",
       "    </tr>\n",
       "    <tr>\n",
       "      <th>2</th>\n",
       "      <td>3</td>\n",
       "      <td>[4, 13]</td>\n",
       "    </tr>\n",
       "    <tr>\n",
       "      <th>3</th>\n",
       "      <td>4</td>\n",
       "      <td>[4, 7, 13]</td>\n",
       "    </tr>\n",
       "    <tr>\n",
       "      <th>4</th>\n",
       "      <td>5</td>\n",
       "      <td>[4]</td>\n",
       "    </tr>\n",
       "  </tbody>\n",
       "</table>\n",
       "</div>"
      ],
      "text/plain": [
       "   movieId           genres\n",
       "0        1  [1, 2, 3, 4, 8]\n",
       "1        2        [1, 3, 8]\n",
       "2        3          [4, 13]\n",
       "3        4       [4, 7, 13]\n",
       "4        5              [4]"
      ]
     },
     "execution_count": 18,
     "metadata": {},
     "output_type": "execute_result"
    }
   ],
   "source": [
    "# map genres to index (int)\n",
    "def _split_and_index(string):\n",
    "    string = string.split('|')\n",
    "    for i, s in enumerate(string):\n",
    "        string[i] = genres.index(s)\n",
    "    return string\n",
    "\n",
    "movies_genres_df['genres'] = movies_genres_df['genres'].map(lambda x : _split_and_index(x))\n",
    "movies_genres_df.head(5)"
   ]
  },
  {
   "cell_type": "code",
   "execution_count": 19,
   "metadata": {},
   "outputs": [
    {
     "data": {
      "text/plain": [
       "movieId    0\n",
       "genres     0\n",
       "dtype: int64"
      ]
     },
     "execution_count": 19,
     "metadata": {},
     "output_type": "execute_result"
    }
   ],
   "source": [
    "# check null\n",
    "movies_genres_df.isnull().sum()"
   ]
  },
  {
   "cell_type": "code",
   "execution_count": 21,
   "metadata": {},
   "outputs": [
    {
     "name": "stdout",
     "output_type": "stream",
     "text": [
      "9742\n",
      "9742\n"
     ]
    }
   ],
   "source": [
    "print(len(movies_genres_df['movieId']))\n",
    "print(movies_genres_df['movieId'].nunique())"
   ]
  },
  {
   "cell_type": "markdown",
   "metadata": {},
   "source": [
    "## Movie Genre embedding"
   ]
  },
  {
   "cell_type": "code",
   "execution_count": 38,
   "metadata": {},
   "outputs": [],
   "source": [
    "class MovieGenreEmbedding(tf.keras.Model):\n",
    "    def __init__(self, len_movies, len_genres, embedding_size):\n",
    "        super(MovieGenreEmbedding, self).__init__()\n",
    "        self.m_embedding = Embedding(name='movie_embedding', input_dim=len_movies, output_dim=embedding_size)\n",
    "        self.g_embedding = Embedding(name='genre_embedding', input_dim=len_genres, output_dim=embedding_size)\n",
    "        self.m_g_merge = Dot(name='movie_genre_dot', normalize=True, axes=1)\n",
    "        self.m_g_fc = Dense(1, activation='sigmoid')\n",
    "        \n",
    "    def call(self, inputs):\n",
    "        movie_input, genre_input = inputs\n",
    "        memb = self.m_embedding(movie_input)\n",
    "        gemb = self.g_embedding(genre_input)\n",
    "        m_g = self.m_g_merge([memb, gemb])\n",
    "        return self.m_g_fc(m_g)\n"
   ]
  },
  {
   "cell_type": "markdown",
   "metadata": {},
   "source": [
    "## Batch generator"
   ]
  },
  {
   "cell_type": "code",
   "execution_count": 25,
   "metadata": {},
   "outputs": [
    {
     "data": {
      "text/plain": [
       "[1, 2, 3, 4, 8]"
      ]
     },
     "execution_count": 25,
     "metadata": {},
     "output_type": "execute_result"
    }
   ],
   "source": [
    "movies_genres_dict = {m: g for m, g in zip(movies_genres_df[\"movieId\"], movies_genres_df[\"genres\"])}\n",
    "movies_genres_dict[1]"
   ]
  },
  {
   "cell_type": "code",
   "execution_count": 26,
   "metadata": {},
   "outputs": [],
   "source": [
    "positive_m_g_pairs = []\n",
    "negative_m_g_pairs = []\n",
    "for movie in movies_genres_df[\"movieId\"]:\n",
    "    for i in range(len(genres)):\n",
    "        if i in movies_genres_dict[movie]:\n",
    "            positive_m_g_pairs.append((movie, i, 1))\n",
    "        else:\n",
    "            negative_m_g_pairs.append((movie, i, 0))"
   ]
  },
  {
   "cell_type": "code",
   "execution_count": 27,
   "metadata": {},
   "outputs": [],
   "source": [
    "def generate_movie_genre_batch(positive_pairs, negative_pairs, batch_size, negative_ratio=0.5):\n",
    "    \n",
    "    batch = np.zeros((batch_size, 3))\n",
    "    num_of_positive = batch_size-int(batch_size*negative_ratio)\n",
    "    \n",
    "    while True:\n",
    "        idx = np.random.choice(len(positive_pairs), num_of_positive)\n",
    "        positive_data = np.array(positive_pairs)[idx]\n",
    "        for i, data in enumerate(positive_data):\n",
    "            batch[i] = data\n",
    "        \n",
    "        idx = np.random.choice(len(negative_pairs), int(batch_size*negative_ratio))\n",
    "        negative_data = np.array(negative_pairs)[idx]\n",
    "        for i, data in enumerate(negative_data):\n",
    "            batch[num_of_positive+i] = data\n",
    "        \n",
    "        np.random.shuffle(batch)\n",
    "        yield batch[:,0], batch[:,1], batch[:,2]"
   ]
  },
  {
   "cell_type": "markdown",
   "metadata": {},
   "source": [
    "## Train & save model weights"
   ]
  },
  {
   "cell_type": "code",
   "execution_count": 71,
   "metadata": {},
   "outputs": [],
   "source": [
    "LEN_MOVIES = max(movies_genres_df[\"movieId\"])+1\n",
    "LEN_GENRES = len(genres)+1\n",
    "EMBEDDING_SIZE = 100\n",
    "\n",
    "MAX_EPOCH = 50\n",
    "MOVIE_BATCH_SIZE = 128\n",
    "MOVIE_STEP_PER_EPOCH = len(positive_m_g_pairs)//MOVIE_BATCH_SIZE"
   ]
  },
  {
   "cell_type": "code",
   "execution_count": 73,
   "metadata": {},
   "outputs": [
    {
     "data": {
      "text/html": [
       "<pre style=\"white-space:pre;overflow-x:auto;line-height:normal;font-family:Menlo,'DejaVu Sans Mono',consolas,'Courier New',monospace\"><span style=\"font-weight: bold\">Model: \"movie_genre_embedding_6\"</span>\n",
       "</pre>\n"
      ],
      "text/plain": [
       "\u001b[1mModel: \"movie_genre_embedding_6\"\u001b[0m\n"
      ]
     },
     "metadata": {},
     "output_type": "display_data"
    },
    {
     "data": {
      "text/html": [
       "<pre style=\"white-space:pre;overflow-x:auto;line-height:normal;font-family:Menlo,'DejaVu Sans Mono',consolas,'Courier New',monospace\">┏━━━━━━━━━━━━━━━━━━━━━━━━━━━━━━━━━┳━━━━━━━━━━━━━━━━━━━━━━━━┳━━━━━━━━━━━━━━━┓\n",
       "┃<span style=\"font-weight: bold\"> Layer (type)                    </span>┃<span style=\"font-weight: bold\"> Output Shape           </span>┃<span style=\"font-weight: bold\">       Param # </span>┃\n",
       "┡━━━━━━━━━━━━━━━━━━━━━━━━━━━━━━━━━╇━━━━━━━━━━━━━━━━━━━━━━━━╇━━━━━━━━━━━━━━━┩\n",
       "│ movie_embedding (<span style=\"color: #0087ff; text-decoration-color: #0087ff\">Embedding</span>)     │ (<span style=\"color: #00af00; text-decoration-color: #00af00\">1</span>, <span style=\"color: #00af00; text-decoration-color: #00af00\">100</span>)               │    <span style=\"color: #00af00; text-decoration-color: #00af00\">19,361,000</span> │\n",
       "├─────────────────────────────────┼────────────────────────┼───────────────┤\n",
       "│ genre_embedding (<span style=\"color: #0087ff; text-decoration-color: #0087ff\">Embedding</span>)     │ (<span style=\"color: #00af00; text-decoration-color: #00af00\">1</span>, <span style=\"color: #00af00; text-decoration-color: #00af00\">100</span>)               │         <span style=\"color: #00af00; text-decoration-color: #00af00\">2,100</span> │\n",
       "├─────────────────────────────────┼────────────────────────┼───────────────┤\n",
       "│ movie_genre_dot (<span style=\"color: #0087ff; text-decoration-color: #0087ff\">Dot</span>)           │ (<span style=\"color: #00af00; text-decoration-color: #00af00\">1</span>, <span style=\"color: #00af00; text-decoration-color: #00af00\">1</span>)                 │             <span style=\"color: #00af00; text-decoration-color: #00af00\">0</span> │\n",
       "├─────────────────────────────────┼────────────────────────┼───────────────┤\n",
       "│ dense_10 (<span style=\"color: #0087ff; text-decoration-color: #0087ff\">Dense</span>)                │ (<span style=\"color: #00af00; text-decoration-color: #00af00\">1</span>, <span style=\"color: #00af00; text-decoration-color: #00af00\">1</span>)                 │             <span style=\"color: #00af00; text-decoration-color: #00af00\">2</span> │\n",
       "└─────────────────────────────────┴────────────────────────┴───────────────┘\n",
       "</pre>\n"
      ],
      "text/plain": [
       "┏━━━━━━━━━━━━━━━━━━━━━━━━━━━━━━━━━┳━━━━━━━━━━━━━━━━━━━━━━━━┳━━━━━━━━━━━━━━━┓\n",
       "┃\u001b[1m \u001b[0m\u001b[1mLayer (type)                   \u001b[0m\u001b[1m \u001b[0m┃\u001b[1m \u001b[0m\u001b[1mOutput Shape          \u001b[0m\u001b[1m \u001b[0m┃\u001b[1m \u001b[0m\u001b[1m      Param #\u001b[0m\u001b[1m \u001b[0m┃\n",
       "┡━━━━━━━━━━━━━━━━━━━━━━━━━━━━━━━━━╇━━━━━━━━━━━━━━━━━━━━━━━━╇━━━━━━━━━━━━━━━┩\n",
       "│ movie_embedding (\u001b[38;5;33mEmbedding\u001b[0m)     │ (\u001b[38;5;34m1\u001b[0m, \u001b[38;5;34m100\u001b[0m)               │    \u001b[38;5;34m19,361,000\u001b[0m │\n",
       "├─────────────────────────────────┼────────────────────────┼───────────────┤\n",
       "│ genre_embedding (\u001b[38;5;33mEmbedding\u001b[0m)     │ (\u001b[38;5;34m1\u001b[0m, \u001b[38;5;34m100\u001b[0m)               │         \u001b[38;5;34m2,100\u001b[0m │\n",
       "├─────────────────────────────────┼────────────────────────┼───────────────┤\n",
       "│ movie_genre_dot (\u001b[38;5;33mDot\u001b[0m)           │ (\u001b[38;5;34m1\u001b[0m, \u001b[38;5;34m1\u001b[0m)                 │             \u001b[38;5;34m0\u001b[0m │\n",
       "├─────────────────────────────────┼────────────────────────┼───────────────┤\n",
       "│ dense_10 (\u001b[38;5;33mDense\u001b[0m)                │ (\u001b[38;5;34m1\u001b[0m, \u001b[38;5;34m1\u001b[0m)                 │             \u001b[38;5;34m2\u001b[0m │\n",
       "└─────────────────────────────────┴────────────────────────┴───────────────┘\n"
      ]
     },
     "metadata": {},
     "output_type": "display_data"
    },
    {
     "data": {
      "text/html": [
       "<pre style=\"white-space:pre;overflow-x:auto;line-height:normal;font-family:Menlo,'DejaVu Sans Mono',consolas,'Courier New',monospace\"><span style=\"font-weight: bold\"> Total params: </span><span style=\"color: #00af00; text-decoration-color: #00af00\">19,363,102</span> (73.86 MB)\n",
       "</pre>\n"
      ],
      "text/plain": [
       "\u001b[1m Total params: \u001b[0m\u001b[38;5;34m19,363,102\u001b[0m (73.86 MB)\n"
      ]
     },
     "metadata": {},
     "output_type": "display_data"
    },
    {
     "data": {
      "text/html": [
       "<pre style=\"white-space:pre;overflow-x:auto;line-height:normal;font-family:Menlo,'DejaVu Sans Mono',consolas,'Courier New',monospace\"><span style=\"font-weight: bold\"> Trainable params: </span><span style=\"color: #00af00; text-decoration-color: #00af00\">19,363,102</span> (73.86 MB)\n",
       "</pre>\n"
      ],
      "text/plain": [
       "\u001b[1m Trainable params: \u001b[0m\u001b[38;5;34m19,363,102\u001b[0m (73.86 MB)\n"
      ]
     },
     "metadata": {},
     "output_type": "display_data"
    },
    {
     "data": {
      "text/html": [
       "<pre style=\"white-space:pre;overflow-x:auto;line-height:normal;font-family:Menlo,'DejaVu Sans Mono',consolas,'Courier New',monospace\"><span style=\"font-weight: bold\"> Non-trainable params: </span><span style=\"color: #00af00; text-decoration-color: #00af00\">0</span> (0.00 B)\n",
       "</pre>\n"
      ],
      "text/plain": [
       "\u001b[1m Non-trainable params: \u001b[0m\u001b[38;5;34m0\u001b[0m (0.00 B)\n"
      ]
     },
     "metadata": {},
     "output_type": "display_data"
    }
   ],
   "source": [
    "m_g_model = MovieGenreEmbedding(LEN_MOVIES, LEN_GENRES, EMBEDDING_SIZE)\n",
    "m_g_model([np.zeros((1)),np.zeros((1))])\n",
    "m_g_model.summary()"
   ]
  },
  {
   "cell_type": "code",
   "execution_count": 74,
   "metadata": {},
   "outputs": [],
   "source": [
    "# optimizer\n",
    "optimizer = tf.keras.optimizers.Adam()\n",
    "# loss\n",
    "bce = tf.keras.losses.BinaryCrossentropy()"
   ]
  },
  {
   "cell_type": "code",
   "execution_count": 75,
   "metadata": {},
   "outputs": [],
   "source": [
    "m_g_train_loss = tf.keras.metrics.Mean(name='train_loss')\n",
    "m_g_train_accuracy = tf.keras.metrics.BinaryAccuracy(name='train_accuracy')\n",
    "\n",
    "@tf.function\n",
    "def m_g_train_step(m_g_inputs, labels):\n",
    "    with tf.GradientTape() as tape:\n",
    "        # training=True is only needed if there are layers with different\n",
    "        # behavior during training versus inference (e.g. Dropout).\n",
    "        predictions = m_g_model(m_g_inputs, training=True)\n",
    "        loss = bce(labels, predictions)\n",
    "    gradients = tape.gradient(loss, m_g_model.trainable_variables)\n",
    "    optimizer.apply_gradients(zip(gradients, m_g_model.trainable_variables))\n",
    "\n",
    "    m_g_train_loss(loss)\n",
    "    m_g_train_accuracy(labels, predictions)"
   ]
  },
  {
   "cell_type": "code",
   "execution_count": 76,
   "metadata": {},
   "outputs": [
    {
     "name": "stdout",
     "output_type": "stream",
     "text": [
      "49 epoch, 171 steps, Loss: 0.2075, Accuracy: 95.2\r"
     ]
    }
   ],
   "source": [
    "# for log\n",
    "m_g_losses = []\n",
    "\n",
    "for epoch in range(MAX_EPOCH):\n",
    "    \n",
    "    m_g_generator = generate_movie_genre_batch(positive_m_g_pairs, negative_m_g_pairs, MOVIE_BATCH_SIZE, negative_ratio=0.5)\n",
    "    \n",
    "    for step in range(MOVIE_STEP_PER_EPOCH):\n",
    "        # embedding layer update\n",
    "        m_batch, g_batch, m_g_label_batch = next(m_g_generator)\n",
    "        m_g_train_step([m_batch, g_batch], m_g_label_batch)\n",
    "        \n",
    "        print(f'{epoch} epoch, {step} steps, Loss: {m_g_train_loss.result():0.4f}, Accuracy: {m_g_train_accuracy.result() * 100:0.1f}', end='\\r')\n",
    "\n",
    "    m_g_losses.append(m_g_train_loss.result())"
   ]
  },
  {
   "cell_type": "code",
   "execution_count": 77,
   "metadata": {},
   "outputs": [
    {
     "data": {
      "text/plain": [
       "[<matplotlib.lines.Line2D at 0x14720e280>]"
      ]
     },
     "execution_count": 77,
     "metadata": {},
     "output_type": "execute_result"
    },
    {
     "data": {
      "image/png": "[encoded data removed]",
      "text/plain": [
       "<Figure size 640x480 with 1 Axes>"
      ]
     },
     "metadata": {},
     "output_type": "display_data"
    }
   ],
   "source": [
    "plt.plot(m_g_losses)"
   ]
  },
  {
   "cell_type": "code",
   "execution_count": 94,
   "metadata": {},
   "outputs": [],
   "source": [
    "m_g_model.save_weights('/Users/vivianyan/Desktop/Reinforcement-Learning/Project/RL-Movie-Rec-Sys/DDPG/save_weights/m_g_model_weights.weights.h5')"
   ]
  },
  {
   "cell_type": "markdown",
   "metadata": {},
   "source": [
    "# User Movie Model"
   ]
  },
  {
   "cell_type": "markdown",
   "metadata": {},
   "source": [
    "## User Movie dataframe"
   ]
  },
  {
   "cell_type": "code",
   "execution_count": 99,
   "metadata": {},
   "outputs": [
    {
     "data": {
      "text/html": [
       "<div>\n",
       "<style scoped>\n",
       "    .dataframe tbody tr th:only-of-type {\n",
       "        vertical-align: middle;\n",
       "    }\n",
       "\n",
       "    .dataframe tbody tr th {\n",
       "        vertical-align: top;\n",
       "    }\n",
       "\n",
       "    .dataframe thead th {\n",
       "        text-align: right;\n",
       "    }\n",
       "</style>\n",
       "<table border=\"1\" class=\"dataframe\">\n",
       "  <thead>\n",
       "    <tr style=\"text-align: right;\">\n",
       "      <th></th>\n",
       "      <th>userId</th>\n",
       "      <th>movieId</th>\n",
       "      <th>rating</th>\n",
       "    </tr>\n",
       "  </thead>\n",
       "  <tbody>\n",
       "    <tr>\n",
       "      <th>0</th>\n",
       "      <td>1</td>\n",
       "      <td>1</td>\n",
       "      <td>4.0</td>\n",
       "    </tr>\n",
       "    <tr>\n",
       "      <th>1</th>\n",
       "      <td>1</td>\n",
       "      <td>3</td>\n",
       "      <td>4.0</td>\n",
       "    </tr>\n",
       "    <tr>\n",
       "      <th>2</th>\n",
       "      <td>1</td>\n",
       "      <td>6</td>\n",
       "      <td>4.0</td>\n",
       "    </tr>\n",
       "    <tr>\n",
       "      <th>3</th>\n",
       "      <td>1</td>\n",
       "      <td>47</td>\n",
       "      <td>5.0</td>\n",
       "    </tr>\n",
       "    <tr>\n",
       "      <th>4</th>\n",
       "      <td>1</td>\n",
       "      <td>50</td>\n",
       "      <td>5.0</td>\n",
       "    </tr>\n",
       "  </tbody>\n",
       "</table>\n",
       "</div>"
      ],
      "text/plain": [
       "   userId  movieId  rating\n",
       "0       1        1     4.0\n",
       "1       1        3     4.0\n",
       "2       1        6     4.0\n",
       "3       1       47     5.0\n",
       "4       1       50     5.0"
      ]
     },
     "execution_count": 99,
     "metadata": {},
     "output_type": "execute_result"
    }
   ],
   "source": [
    "user_movie_rating_df = ratings_df[['userId','movieId','rating']]\n",
    "user_movie_rating_df.head(5)"
   ]
  },
  {
   "cell_type": "code",
   "execution_count": 100,
   "metadata": {},
   "outputs": [
    {
     "data": {
      "text/plain": [
       "userId     0\n",
       "movieId    0\n",
       "rating     0\n",
       "dtype: int64"
      ]
     },
     "execution_count": 100,
     "metadata": {},
     "output_type": "execute_result"
    }
   ],
   "source": [
    "# check null\n",
    "user_movie_rating_df.isnull().sum()"
   ]
  },
  {
   "cell_type": "code",
   "execution_count": 101,
   "metadata": {},
   "outputs": [
    {
     "name": "stdout",
     "output_type": "stream",
     "text": [
      "Unique users:  610\n",
      "Unique movies:  9724\n"
     ]
    }
   ],
   "source": [
    "print('Unique users: ', user_movie_rating_df['userId'].nunique())\n",
    "print('Unique movies: ', user_movie_rating_df['movieId'].nunique())"
   ]
  },
  {
   "cell_type": "markdown",
   "metadata": {},
   "source": [
    "## User Movie embedding"
   ]
  },
  {
   "cell_type": "code",
   "execution_count": 102,
   "metadata": {},
   "outputs": [],
   "source": [
    "class UserMovieEmbedding(tf.keras.Model):\n",
    "    def __init__(self, len_users, len_movies, embedding_size):\n",
    "        super(UserMovieEmbedding, self).__init__()\n",
    "        self.u_embedding = tf.keras.layers.Embedding(name='user_embedding', input_dim=len_users, output_dim=embedding_size)\n",
    "        self.m_embedding = tf.keras.layers.Embedding(name='movie_embedding', input_dim=len_movies, output_dim=embedding_size)\n",
    "        self.m_u_merge = tf.keras.layers.Dot(name='movie_user_dot', normalize=False, axes=1)\n",
    "        self.m_u_fc = tf.keras.layers.Dense(1, activation='sigmoid')\n",
    "        \n",
    "    def call(self, inputs):\n",
    "        user_input, movie_input = inputs\n",
    "        uemb = self.u_embedding(user_input)\n",
    "        memb = self.m_embedding(movie_input)\n",
    "        m_u = self.m_u_merge([memb, uemb])\n",
    "        return self.m_u_fc(m_u)"
   ]
  },
  {
   "cell_type": "markdown",
   "metadata": {},
   "source": [
    "## Batch generator"
   ]
  },
  {
   "cell_type": "code",
   "execution_count": 103,
   "metadata": {},
   "outputs": [
    {
     "data": {
      "text/plain": [
       "array([[ 1,  1],\n",
       "       [ 1,  3],\n",
       "       [ 1,  6],\n",
       "       [ 1, 47],\n",
       "       [ 1, 50]])"
      ]
     },
     "execution_count": 103,
     "metadata": {},
     "output_type": "execute_result"
    }
   ],
   "source": [
    "index_names = user_movie_rating_df[user_movie_rating_df['rating']<4.0].index\n",
    "user_movie_rating_df = user_movie_rating_df.drop(index_names)\n",
    "user_movie_rating_df = user_movie_rating_df.drop('rating', axis=1)\n",
    "u_m_pairs = user_movie_rating_df.to_numpy()\n",
    "u_m_pairs[:5]"
   ]
  },
  {
   "cell_type": "code",
   "execution_count": 104,
   "metadata": {},
   "outputs": [
    {
     "name": "stderr",
     "output_type": "stream",
     "text": [
      "/var/folders/sv/tqkwxbbd1l96g8tr45l86pmw0000gn/T/ipykernel_29068/2067319221.py:3: FutureWarning: Series.__getitem__ treating keys as positions is deprecated. In a future version, integer keys will always be treated as labels (consistent with DataFrame behavior). To access a value by position, use `ser.iloc[pos]`\n",
      "  positive_user_movie_dict[data[1][0]].append(data[1][1])\n"
     ]
    },
    {
     "data": {
      "text/plain": [
       "[1,\n",
       " 3,\n",
       " 6,\n",
       " 47,\n",
       " 50,\n",
       " 101,\n",
       " 110,\n",
       " 151,\n",
       " 157,\n",
       " 163,\n",
       " 216,\n",
       " 231,\n",
       " 235,\n",
       " 260,\n",
       " 333,\n",
       " 349,\n",
       " 356,\n",
       " 362,\n",
       " 367,\n",
       " 441,\n",
       " 457,\n",
       " 480,\n",
       " 527,\n",
       " 543,\n",
       " 552,\n",
       " 553,\n",
       " 590,\n",
       " 592,\n",
       " 593,\n",
       " 596,\n",
       " 608,\n",
       " 661,\n",
       " 733,\n",
       " 804,\n",
       " 919,\n",
       " 923,\n",
       " 940,\n",
       " 943,\n",
       " 954,\n",
       " 1023,\n",
       " 1024,\n",
       " 1025,\n",
       " 1029,\n",
       " 1031,\n",
       " 1032,\n",
       " 1042,\n",
       " 1049,\n",
       " 1060,\n",
       " 1073,\n",
       " 1080,\n",
       " 1089,\n",
       " 1090,\n",
       " 1092,\n",
       " 1097,\n",
       " 1127,\n",
       " 1136,\n",
       " 1196,\n",
       " 1197,\n",
       " 1198,\n",
       " 1206,\n",
       " 1208,\n",
       " 1210,\n",
       " 1213,\n",
       " 1214,\n",
       " 1220,\n",
       " 1222,\n",
       " 1224,\n",
       " 1226,\n",
       " 1240,\n",
       " 1256,\n",
       " 1265,\n",
       " 1270,\n",
       " 1275,\n",
       " 1278,\n",
       " 1282,\n",
       " 1291,\n",
       " 1298,\n",
       " 1348,\n",
       " 1473,\n",
       " 1500,\n",
       " 1517,\n",
       " 1552,\n",
       " 1573,\n",
       " 1587,\n",
       " 1617,\n",
       " 1620,\n",
       " 1625,\n",
       " 1732,\n",
       " 1777,\n",
       " 1793,\n",
       " 1804,\n",
       " 1805,\n",
       " 1920,\n",
       " 1927,\n",
       " 1954,\n",
       " 1967,\n",
       " 2000,\n",
       " 2005,\n",
       " 2012,\n",
       " 2018,\n",
       " 2028,\n",
       " 2033,\n",
       " 2046,\n",
       " 2048,\n",
       " 2054,\n",
       " 2058,\n",
       " 2078,\n",
       " 2090,\n",
       " 2094,\n",
       " 2096,\n",
       " 2099,\n",
       " 2105,\n",
       " 2115,\n",
       " 2116,\n",
       " 2137,\n",
       " 2139,\n",
       " 2141,\n",
       " 2143,\n",
       " 2161,\n",
       " 2174,\n",
       " 2193,\n",
       " 2268,\n",
       " 2273,\n",
       " 2291,\n",
       " 2329,\n",
       " 2353,\n",
       " 2366,\n",
       " 2387,\n",
       " 2395,\n",
       " 2406,\n",
       " 2427,\n",
       " 2450,\n",
       " 2459,\n",
       " 2470,\n",
       " 2478,\n",
       " 2492,\n",
       " 2502,\n",
       " 2529,\n",
       " 2542,\n",
       " 2571,\n",
       " 2580,\n",
       " 2596,\n",
       " 2616,\n",
       " 2628,\n",
       " 2640,\n",
       " 2641,\n",
       " 2644,\n",
       " 2648,\n",
       " 2654,\n",
       " 2692,\n",
       " 2700,\n",
       " 2716,\n",
       " 2761,\n",
       " 2797,\n",
       " 2826,\n",
       " 2858,\n",
       " 2872,\n",
       " 2899,\n",
       " 2916,\n",
       " 2944,\n",
       " 2947,\n",
       " 2948,\n",
       " 2949,\n",
       " 2959,\n",
       " 2985,\n",
       " 2987,\n",
       " 2991,\n",
       " 2993,\n",
       " 2997,\n",
       " 3033,\n",
       " 3034,\n",
       " 3052,\n",
       " 3053,\n",
       " 3062,\n",
       " 3147,\n",
       " 3168,\n",
       " 3253,\n",
       " 3273,\n",
       " 3386,\n",
       " 3439,\n",
       " 3440,\n",
       " 3441,\n",
       " 3448,\n",
       " 3450,\n",
       " 3479,\n",
       " 3489,\n",
       " 3527,\n",
       " 3578,\n",
       " 3617,\n",
       " 3639,\n",
       " 3671,\n",
       " 3702,\n",
       " 3703,\n",
       " 3729,\n",
       " 3740,\n",
       " 3744,\n",
       " 3793,\n",
       " 3809,\n",
       " 4006,\n",
       " 5060]"
      ]
     },
     "execution_count": 104,
     "metadata": {},
     "output_type": "execute_result"
    }
   ],
   "source": [
    "positive_user_movie_dict = {u : [] for u in range(1, max(user_movie_rating_df['userId'])+1)}\n",
    "for data in user_movie_rating_df.iterrows():\n",
    "    positive_user_movie_dict[data[1][0]].append(data[1][1])\n",
    "positive_user_movie_dict[1]"
   ]
  },
  {
   "cell_type": "code",
   "execution_count": 105,
   "metadata": {},
   "outputs": [],
   "source": [
    "def generate_user_movie_batch(positive_pairs, batch_size, negative_ratio=0.5):\n",
    "    batch = np.zeros((batch_size, 3))\n",
    "    positive_batch_size = batch_size - int(batch_size*negative_ratio)\n",
    "    max_user_id = max(user_movie_rating_df['userId'])+1\n",
    "    max_movie_id = max(user_movie_rating_df['movieId'])+1\n",
    "    \n",
    "    while True:\n",
    "        idx = np.random.choice(len(positive_pairs), positive_batch_size)\n",
    "        data = positive_pairs[idx]\n",
    "        for i, d in enumerate(data):\n",
    "            batch[i] = (d[0], d[1], 1)\n",
    "        \n",
    "        while i+1 < batch_size:\n",
    "            u = np.random.randint(1, max_user_id)\n",
    "            m = np.random.randint(1, max_movie_id)\n",
    "            if m not in positive_user_movie_dict[u]:\n",
    "                i += 1\n",
    "                batch[i] = (u, m, 0)\n",
    "        \n",
    "        np.random.shuffle(batch)\n",
    "        yield batch[:,0], batch[:,1], batch[:,2]"
   ]
  },
  {
   "cell_type": "markdown",
   "metadata": {},
   "source": [
    "## Train & save model weights"
   ]
  },
  {
   "cell_type": "code",
   "execution_count": 112,
   "metadata": {},
   "outputs": [],
   "source": [
    "LEN_USERS = max(user_movie_rating_df['userId'])+1\n",
    "MAX_EPOCH = 50\n",
    "INIT_USER_BATCH_SIZE = 64\n",
    "FINAL_USER_BATCH_SIZE = 512"
   ]
  },
  {
   "cell_type": "code",
   "execution_count": 113,
   "metadata": {},
   "outputs": [
    {
     "data": {
      "text/html": [
       "<pre style=\"white-space:pre;overflow-x:auto;line-height:normal;font-family:Menlo,'DejaVu Sans Mono',consolas,'Courier New',monospace\"><span style=\"font-weight: bold\">Model: \"user_movie_embedding_6\"</span>\n",
       "</pre>\n"
      ],
      "text/plain": [
       "\u001b[1mModel: \"user_movie_embedding_6\"\u001b[0m\n"
      ]
     },
     "metadata": {},
     "output_type": "display_data"
    },
    {
     "data": {
      "text/html": [
       "<pre style=\"white-space:pre;overflow-x:auto;line-height:normal;font-family:Menlo,'DejaVu Sans Mono',consolas,'Courier New',monospace\">┏━━━━━━━━━━━━━━━━━━━━━━━━━━━━━━━━━┳━━━━━━━━━━━━━━━━━━━━━━━━┳━━━━━━━━━━━━━━━┓\n",
       "┃<span style=\"font-weight: bold\"> Layer (type)                    </span>┃<span style=\"font-weight: bold\"> Output Shape           </span>┃<span style=\"font-weight: bold\">       Param # </span>┃\n",
       "┡━━━━━━━━━━━━━━━━━━━━━━━━━━━━━━━━━╇━━━━━━━━━━━━━━━━━━━━━━━━╇━━━━━━━━━━━━━━━┩\n",
       "│ user_embedding (<span style=\"color: #0087ff; text-decoration-color: #0087ff\">Embedding</span>)      │ (<span style=\"color: #00af00; text-decoration-color: #00af00\">1</span>, <span style=\"color: #00af00; text-decoration-color: #00af00\">100</span>)               │        <span style=\"color: #00af00; text-decoration-color: #00af00\">61,100</span> │\n",
       "├─────────────────────────────────┼────────────────────────┼───────────────┤\n",
       "│ movie_embedding (<span style=\"color: #0087ff; text-decoration-color: #0087ff\">Embedding</span>)     │ (<span style=\"color: #00af00; text-decoration-color: #00af00\">1</span>, <span style=\"color: #00af00; text-decoration-color: #00af00\">100</span>, <span style=\"color: #00af00; text-decoration-color: #00af00\">100</span>)          │    <span style=\"color: #00af00; text-decoration-color: #00af00\">19,361,000</span> │\n",
       "├─────────────────────────────────┼────────────────────────┼───────────────┤\n",
       "│ movie_user_dot (<span style=\"color: #0087ff; text-decoration-color: #0087ff\">Dot</span>)            │ (<span style=\"color: #00af00; text-decoration-color: #00af00\">1</span>, <span style=\"color: #00af00; text-decoration-color: #00af00\">100</span>)               │             <span style=\"color: #00af00; text-decoration-color: #00af00\">0</span> │\n",
       "├─────────────────────────────────┼────────────────────────┼───────────────┤\n",
       "│ dense_13 (<span style=\"color: #0087ff; text-decoration-color: #0087ff\">Dense</span>)                │ (<span style=\"color: #00af00; text-decoration-color: #00af00\">1</span>, <span style=\"color: #00af00; text-decoration-color: #00af00\">1</span>)                 │           <span style=\"color: #00af00; text-decoration-color: #00af00\">101</span> │\n",
       "└─────────────────────────────────┴────────────────────────┴───────────────┘\n",
       "</pre>\n"
      ],
      "text/plain": [
       "┏━━━━━━━━━━━━━━━━━━━━━━━━━━━━━━━━━┳━━━━━━━━━━━━━━━━━━━━━━━━┳━━━━━━━━━━━━━━━┓\n",
       "┃\u001b[1m \u001b[0m\u001b[1mLayer (type)                   \u001b[0m\u001b[1m \u001b[0m┃\u001b[1m \u001b[0m\u001b[1mOutput Shape          \u001b[0m\u001b[1m \u001b[0m┃\u001b[1m \u001b[0m\u001b[1m      Param #\u001b[0m\u001b[1m \u001b[0m┃\n",
       "┡━━━━━━━━━━━━━━━━━━━━━━━━━━━━━━━━━╇━━━━━━━━━━━━━━━━━━━━━━━━╇━━━━━━━━━━━━━━━┩\n",
       "│ user_embedding (\u001b[38;5;33mEmbedding\u001b[0m)      │ (\u001b[38;5;34m1\u001b[0m, \u001b[38;5;34m100\u001b[0m)               │        \u001b[38;5;34m61,100\u001b[0m │\n",
       "├─────────────────────────────────┼────────────────────────┼───────────────┤\n",
       "│ movie_embedding (\u001b[38;5;33mEmbedding\u001b[0m)     │ (\u001b[38;5;34m1\u001b[0m, \u001b[38;5;34m100\u001b[0m, \u001b[38;5;34m100\u001b[0m)          │    \u001b[38;5;34m19,361,000\u001b[0m │\n",
       "├─────────────────────────────────┼────────────────────────┼───────────────┤\n",
       "│ movie_user_dot (\u001b[38;5;33mDot\u001b[0m)            │ (\u001b[38;5;34m1\u001b[0m, \u001b[38;5;34m100\u001b[0m)               │             \u001b[38;5;34m0\u001b[0m │\n",
       "├─────────────────────────────────┼────────────────────────┼───────────────┤\n",
       "│ dense_13 (\u001b[38;5;33mDense\u001b[0m)                │ (\u001b[38;5;34m1\u001b[0m, \u001b[38;5;34m1\u001b[0m)                 │           \u001b[38;5;34m101\u001b[0m │\n",
       "└─────────────────────────────────┴────────────────────────┴───────────────┘\n"
      ]
     },
     "metadata": {},
     "output_type": "display_data"
    },
    {
     "data": {
      "text/html": [
       "<pre style=\"white-space:pre;overflow-x:auto;line-height:normal;font-family:Menlo,'DejaVu Sans Mono',consolas,'Courier New',monospace\"><span style=\"font-weight: bold\"> Total params: </span><span style=\"color: #00af00; text-decoration-color: #00af00\">19,422,201</span> (74.09 MB)\n",
       "</pre>\n"
      ],
      "text/plain": [
       "\u001b[1m Total params: \u001b[0m\u001b[38;5;34m19,422,201\u001b[0m (74.09 MB)\n"
      ]
     },
     "metadata": {},
     "output_type": "display_data"
    },
    {
     "data": {
      "text/html": [
       "<pre style=\"white-space:pre;overflow-x:auto;line-height:normal;font-family:Menlo,'DejaVu Sans Mono',consolas,'Courier New',monospace\"><span style=\"font-weight: bold\"> Trainable params: </span><span style=\"color: #00af00; text-decoration-color: #00af00\">19,422,201</span> (74.09 MB)\n",
       "</pre>\n"
      ],
      "text/plain": [
       "\u001b[1m Trainable params: \u001b[0m\u001b[38;5;34m19,422,201\u001b[0m (74.09 MB)\n"
      ]
     },
     "metadata": {},
     "output_type": "display_data"
    },
    {
     "data": {
      "text/html": [
       "<pre style=\"white-space:pre;overflow-x:auto;line-height:normal;font-family:Menlo,'DejaVu Sans Mono',consolas,'Courier New',monospace\"><span style=\"font-weight: bold\"> Non-trainable params: </span><span style=\"color: #00af00; text-decoration-color: #00af00\">0</span> (0.00 B)\n",
       "</pre>\n"
      ],
      "text/plain": [
       "\u001b[1m Non-trainable params: \u001b[0m\u001b[38;5;34m0\u001b[0m (0.00 B)\n"
      ]
     },
     "metadata": {},
     "output_type": "display_data"
    }
   ],
   "source": [
    "u_m_model = UserMovieEmbedding(LEN_USERS, LEN_MOVIES, EMBEDDING_SIZE)\n",
    "u_m_model([np.zeros((1)),np.zeros((1,100))])\n",
    "u_m_model.summary()"
   ]
  },
  {
   "cell_type": "code",
   "execution_count": 114,
   "metadata": {},
   "outputs": [],
   "source": [
    "# optimizer\n",
    "optimizer = tf.keras.optimizers.Adam()\n",
    "# loss\n",
    "bce = tf.keras.losses.BinaryCrossentropy()"
   ]
  },
  {
   "cell_type": "code",
   "execution_count": 115,
   "metadata": {},
   "outputs": [],
   "source": [
    "u_m_train_loss = tf.keras.metrics.Mean(name='train_loss')\n",
    "u_m_train_accuracy = tf.keras.metrics.BinaryAccuracy(name='train_accuracy')\n",
    "\n",
    "\n",
    "@tf.function\n",
    "def u_m_train_step(u_m_inputs, labels):\n",
    "    with tf.GradientTape() as tape:\n",
    "        # training=True is only needed if there are layers with different\n",
    "        # behavior during training versus inference (e.g. Dropout).\n",
    "        predictions = u_m_model(u_m_inputs, training=True)\n",
    "        loss = bce(labels, predictions)\n",
    "    gradients = tape.gradient(loss, u_m_model.trainable_variables)\n",
    "    optimizer.apply_gradients(zip(gradients, u_m_model.trainable_variables))\n",
    "\n",
    "    u_m_train_loss(loss)\n",
    "    u_m_train_accuracy(labels, predictions)"
   ]
  },
  {
   "cell_type": "code",
   "execution_count": 116,
   "metadata": {},
   "outputs": [
    {
     "name": "stdout",
     "output_type": "stream",
     "text": [
      "49 epoch, Batch size : 512, 93 steps, Loss: 0.5680, Accuracy: 71.4\r"
     ]
    }
   ],
   "source": [
    "# for log\n",
    "u_m_losses = []\n",
    "\n",
    "for epoch in range(MAX_EPOCH):\n",
    "    \n",
    "    batch_size = INIT_USER_BATCH_SIZE * (epoch+1)\n",
    "    if batch_size > FINAL_USER_BATCH_SIZE:\n",
    "        batch_size = FINAL_USER_BATCH_SIZE\n",
    "    u_m_generator = generate_user_movie_batch(u_m_pairs, batch_size)\n",
    "    \n",
    "    for step in range(len(user_movie_rating_df)//batch_size):\n",
    "        # embedding layer update\n",
    "        u_batch, m_batch, u_m_label_batch = next(u_m_generator)\n",
    "        m_batch = m_g_model.get_layer('movie_embedding')(m_batch)\n",
    "        u_m_train_step([u_batch, m_batch], u_m_label_batch)\n",
    "        \n",
    "        print(f'{epoch} epoch, Batch size : {batch_size}, {step} steps, Loss: {u_m_train_loss.result():0.4f}, Accuracy: {u_m_train_accuracy.result() * 100:0.1f}', end='\\r')\n",
    "\n",
    "    u_m_losses.append(u_m_train_loss.result())"
   ]
  },
  {
   "cell_type": "code",
   "execution_count": 117,
   "metadata": {},
   "outputs": [
    {
     "data": {
      "text/plain": [
       "[<matplotlib.lines.Line2D at 0x1459ac490>]"
      ]
     },
     "execution_count": 117,
     "metadata": {},
     "output_type": "execute_result"
    },
    {
     "data": {
      "image/png": "[encoded data removed]",
      "text/plain": [
       "<Figure size 640x480 with 1 Axes>"
      ]
     },
     "metadata": {},
     "output_type": "display_data"
    }
   ],
   "source": [
    "plt.plot(u_m_losses)"
   ]
  },
  {
   "cell_type": "code",
   "execution_count": 118,
   "metadata": {},
   "outputs": [],
   "source": [
    "u_m_model.save_weights('/Users/vivianyan/Desktop/Reinforcement-Learning/Project/RL-Movie-Rec-Sys/DDPG/save_weights/u_m_model_weights.weights.h5')"
   ]
  }
 ],
 "metadata": {
  "kernelspec": {
   "display_name": "ddpg",
   "language": "python",
   "name": "python3"
  },
  "language_info": {
   "codemirror_mode": {
    "name": "ipython",
    "version": 3
   },
   "file_extension": ".py",
   "mimetype": "text/x-python",
   "name": "python",
   "nbconvert_exporter": "python",
   "pygments_lexer": "ipython3",
   "version": "3.9.21"
  }
 },
 "nbformat": 4,
 "nbformat_minor": 2
}
