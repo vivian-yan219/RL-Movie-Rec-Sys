{
  "cells": [
    {
      "cell_type": "markdown",
      "metadata": {
        "id": "8hvGSa4cl6n1"
      },
      "source": [
        "# **MovieLens Recommendation With Actor Critic**\n",
        "\n",
        "Reference : https://arxiv.org/pdf/1801.00209.pdf"
      ]
    },
    {
      "cell_type": "markdown",
      "metadata": {
        "id": "czh7lzELzg0y"
      },
      "source": [
        "## **1. Importing libraries**"
      ]
    },
    {
      "cell_type": "code",
      "execution_count": 1,
      "metadata": {},
      "outputs": [],
      "source": [
        "import pandas as pd\n",
        "import numpy as np\n",
        "import matplotlib.pyplot as plt\n",
        "\n",
        "import time\n",
        "import itertools\n",
        "import random\n",
        "import csv\n",
        "\n",
        "# — TF-1.x compatibility mode —\n",
        "import tensorflow.compat.v1 as tf\n",
        "from tensorflow.compat.v1.nn.rnn_cell import GRUCell"
      ]
    },
    {
      "cell_type": "markdown",
      "metadata": {
        "id": "7W1yNQ0yMWB2"
      },
      "source": [
        "## **2. MovieLens Data Preprocessing**"
      ]
    },
    {
      "cell_type": "markdown",
      "metadata": {
        "id": "6YiSZsaO3MWQ"
      },
      "source": [
        "### Preprocessing the MovieLens dataset\n",
        "\n",
        "1. **Load & merge data:** Read ratings (`userId,itemId,rating,timestamp`) and movie titles (`itemId|title`), then merge on `itemId`.  \n",
        "2. **One event per row:** Ensure each row is a single `(user, movie, rating, timestamp)` record.  \n",
        "3. **Chronological histories:** Group by `userId` and sort each user’s ratings from the oldest to newest.  \n",
        "4. **User-disjoint split:** Shuffle users (optional seed) and partition their histories into train vs. test so no user overlaps.  \n",
        "5. **Sample state–action pairs:** For each history, split at a ratio (e.g. 80/20), then draw random subsamples (with replacement if needed) from the “past” and “future” segments.  \n",
        "6. **Export CSV:** Write rows with three columns—`state`, `action_reward`, and `n_state`—each formatted as `itemId&rating` entries joined by `|`.  "
      ]
    },
    {
      "cell_type": "code",
      "execution_count": 3,
      "metadata": {
        "id": "g9vTLvM1Msfg"
      },
      "outputs": [],
      "source": [
        "class DataGenerator():\n",
        "\n",
        "  def __init__(self, path_to_data, path_to_item):\n",
        "    '''\n",
        "    Get the Movie lens data with the list of users, the movies(items) and their history\n",
        "    '''\n",
        "    self.data  = self.load_data(path_to_data, path_to_item)\n",
        "    self.users = self.data['userId'].unique()   \n",
        "    self.items = self.data['itemId'].unique()   \n",
        "    self.histo = self.generate_history_funtion()\n",
        "    self.train = []\n",
        "    self.test  = []\n",
        "\n",
        "  def load_data(self, path_to_data, path_to_item):\n",
        "    '''\n",
        "    Load the data\n",
        "    '''\n",
        "    data = pd.read_csv(path_to_data, sep='\\t', \n",
        "                       names=['userId', 'itemId', 'rating', 'timestamp'])\n",
        "    movie_titles = pd.read_csv(path_to_item, sep='|', names=['itemId', 'itemName'],\n",
        "                           usecols=range(2), encoding='latin-1')\n",
        "    return data.merge(movie_titles,on='itemId', how='left')\n",
        "\n",
        "\n",
        "  def generate_history_funtion(self):\n",
        "    '''\n",
        "    Group all rates given by users and store them from older to most recent based on time.\n",
        "    '''\n",
        "    historic_users = []\n",
        "    for i, u in enumerate(self.users):\n",
        "      temp = self.data[self.data['userId'] == u]\n",
        "      temp = temp.sort_values('timestamp').reset_index()\n",
        "      temp.drop('index', axis=1, inplace=True)\n",
        "      historic_users.append(temp)\n",
        "    return historic_users\n",
        "\n",
        "  def sample_history(\n",
        "    self,\n",
        "    user_histo,\n",
        "    action_ratio=0.8,\n",
        "    max_samp_by_user=5,\n",
        "    max_state=100,\n",
        "    max_action=50,\n",
        "    nb_states=None,\n",
        "    nb_actions=None,\n",
        "  ):\n",
        "    \"\"\"\n",
        "    Making multiple samples for a given historic set, based on some number of states and actions.\n",
        "    Returns lists of (state_strings), (action_strings).\n",
        "    \"\"\"\n",
        "    n   = len(user_histo)\n",
        "    sep = int(action_ratio * n)\n",
        "    # how many separate samples we’ll generate\n",
        "    nb_sample = random.randint(1, max_samp_by_user)\n",
        "\n",
        "    # if not provided, randomly choose sizes\n",
        "    if nb_states is None:\n",
        "        nb_states = [min(random.randint(1, sep), max_state) for _ in range(nb_sample)]\n",
        "    if nb_actions is None:\n",
        "        nb_actions = [min(random.randint(1, n - sep), max_action) for _ in range(nb_sample)]\n",
        "\n",
        "    assert len(nb_states) == len(nb_actions), \"nb_states and nb_actions must align\"\n",
        "\n",
        "    states, actions = [], []\n",
        "    for s_size, a_size in zip(nb_states, nb_actions):\n",
        "        # split pools\n",
        "        state_pool  = user_histo.iloc[:sep]\n",
        "        action_pool = user_histo.iloc[sep:]\n",
        "\n",
        "        # decide if we need replacement\n",
        "        replace_s = len(state_pool)  < s_size\n",
        "        replace_a = len(action_pool) < a_size\n",
        "\n",
        "        # sample\n",
        "        sample_states  = state_pool.sample(n=s_size,  replace=replace_s)\n",
        "        sample_actions = action_pool.sample(n=a_size, replace=replace_a)\n",
        "\n",
        "        # format as \"itemId&rating\"\n",
        "        states.append([\n",
        "            f\"{row.itemId}&{row.rating}\"\n",
        "            for _, row in sample_states.iterrows()\n",
        "        ])\n",
        "        actions.append([\n",
        "            f\"{row.itemId}&{row.rating}\"\n",
        "            for _, row in sample_actions.iterrows()\n",
        "        ])\n",
        "\n",
        "    return states, actions\n",
        "\n",
        "\n",
        "  def get_train_test_split(self, test_ratio, seed=None):\n",
        "    '''\n",
        "    Create train and test datasets\n",
        "    '''\n",
        "    n = len(self.histo)\n",
        "\n",
        "    if seed is not None:\n",
        "      random.Random(seed).shuffle(self.histo)\n",
        "    else:\n",
        "      random.shuffle(self.histo)\n",
        "\n",
        "    self.train = self.histo[:int((test_ratio * n))]\n",
        "    self.test  = self.histo[int((test_ratio * n)):]\n",
        "    self.user_train = [h.iloc[0,0] for h in self.train]\n",
        "    self.user_test  = [h.iloc[0,0] for h in self.test]\n",
        "    \n",
        "\n",
        "  def write_csv(self, filename, histo_to_write, delimiter=';', action_ratio=0.8, max_samp_by_user=5, max_state=100, max_action=50, nb_states=[], nb_actions=[]):\n",
        "    \n",
        "    with open(filename, mode='w') as file:\n",
        "      f_writer = csv.writer(file, delimiter=delimiter)\n",
        "      f_writer.writerow(['state', 'action_reward', 'n_state'])\n",
        "      for user_histo in histo_to_write:\n",
        "        states, actions = self.sample_history(user_histo, action_ratio, max_samp_by_user, max_state, max_action, nb_states, nb_actions)\n",
        "        for i in range(len(states)):\n",
        "          # FORMAT STATE\n",
        "          state_str   = '|'.join(states[i])\n",
        "          # FORMAT ACTION\n",
        "          action_str  = '|'.join(actions[i])\n",
        "          # FORMAT N_STATE\n",
        "          n_state_str = state_str + '|' + action_str\n",
        "          f_writer.writerow([state_str, action_str, n_state_str])\n"
      ]
    },
    {
      "cell_type": "markdown",
      "metadata": {
        "id": "s_f4hrNiNJxr"
      },
      "source": [
        "## **3. Generating Embeddings for Movies**"
      ]
    },
    {
      "cell_type": "markdown",
      "metadata": {
        "id": "FDXaAKcd7MPY"
      },
      "source": [
        "### Creation of Embedding vector for each movie item\n",
        "\n",
        "\n",
        "1.   Embedding vector created for each movie based on the context\n",
        "\n",
        "\n",
        "2. The embeddings are learnt by training a sequential neural network model, where the weight of hidden states will give the output embeddings\n",
        "\n",
        "3. Training steps :\n",
        "  1. Context : a set of historic movies rated for a user with 1 random movie removed\n",
        "  2. Target : the removed movie from historic list\n",
        "\n",
        "  3. For multiple targets and its corresponding contexts, the embedding for the target movie is created\n",
        "  4. Therefore, after training,  each movie gets a corresponding vector representation based the context of occurrence\n",
        "\n",
        "4. Embeddings of each movie is obtained and saved into a file\n",
        "\n",
        "\n",
        "\n",
        "\n",
        "\n",
        "\n"
      ]
    },
    {
      "cell_type": "code",
      "execution_count": 4,
      "metadata": {
        "id": "ImU11xhdNOSF"
      },
      "outputs": [],
      "source": [
        "class EmbeddingsGenerator:\n",
        "\n",
        "  def  __init__(self, train_users, data):\n",
        "    self.train_users = train_users\n",
        "\n",
        "    self.data = data.sort_values(by=['timestamp'])\n",
        "   \n",
        "    self.data['userId'] = self.data['userId'] - 1\n",
        "    self.data['itemId'] = self.data['itemId'] - 1\n",
        "\n",
        "    self.user_count = self.data['userId'].max() + 1\n",
        "    self.movie_count = self.data['itemId'].max() + 1\n",
        "\n",
        "    self.user_movies = {} #list of rated movies by each user\n",
        "    for userId in range(self.user_count):\n",
        "      self.user_movies[userId] = self.data[self.data.userId == userId]['itemId'].tolist()\n",
        "    self.m = self.define_model()\n",
        "\n",
        "  def define_model(self, hidden_layer_size=100):\n",
        "    # adding required layers\n",
        "    m = Sequential()\n",
        "    m.add(Dense(hidden_layer_size, input_shape=(1, self.movie_count)))\n",
        "    m.add(Dropout(0.2))\n",
        "    m.add(Dense(self.movie_count, activation='softmax'))\n",
        "    m.compile(optimizer='adam', loss='categorical_crossentropy', metrics=['accuracy'])\n",
        "    return m\n",
        "  \n",
        "  def generate_input(self, user_id):\n",
        "    '''\n",
        "    Returns a context and a target for the user_id\n",
        "    '''\n",
        "    user_movies_count = len(self.user_movies[user_id])\n",
        "    # picking random movie\n",
        "    random_index = np.random.randint(0, user_movies_count-1) # -1 avoids taking the last movie\n",
        "    # set target\n",
        "    target = np.zeros((1, self.movie_count))\n",
        "    target[0][self.user_movies[user_id][random_index]] = 1\n",
        "    # set context\n",
        "    context = np.zeros((1, self.movie_count))\n",
        "    context[0][self.user_movies[user_id][:random_index] + self.user_movies[user_id][random_index+1:]] = 1\n",
        "    return context, target\n",
        "\n",
        "  def train(self, nb_epochs = 300, batch_size = 10000):\n",
        "    '''\n",
        "    Trains the model from train_users's history\n",
        "    '''\n",
        "    for i in range(nb_epochs):\n",
        "      print('%d/%d' % (i+1, nb_epochs))\n",
        "      batch = [self.generate_input(user_id=np.random.choice(self.train_users) - 1) for _ in range(batch_size)]\n",
        "      X_train = np.array([b[0] for b in batch])\n",
        "      y_train = np.array([b[1] for b in batch])\n",
        "      self.m.fit(X_train, y_train, epochs=1, validation_split=0.5)\n",
        "\n",
        "  def test(self, test_users, batch_size = 100000):\n",
        "    '''\n",
        "    Returns on the test set\n",
        "    '''\n",
        "    batch_test = [self.generate_input(user_id=np.random.choice(test_users) - 1) for _ in range(batch_size)]\n",
        "    X_test = np.array([b[0] for b in batch_test])\n",
        "    y_test = np.array([b[1] for b in batch_test])\n",
        "    return self.m.evaluate(X_test, y_test)\n",
        "\n",
        "  def save_embeddings(self, file_name):\n",
        "    # extract the weight matrix from first Dense layer\n",
        "    W, _ = self.m.layers[0].get_weights()  \n",
        "    vectors = []\n",
        "    for movie_id, vec in enumerate(W):\n",
        "        vectors.append([\n",
        "            movie_id,\n",
        "            '|'.join(str(v) for v in vec)\n",
        "        ])\n",
        "    embeddings = pd.DataFrame(vectors, columns=['item_id','vectors'])\n",
        "    embeddings.to_csv(file_name, sep=';', index=False)\n",
        "    print(f\"Embeddings saved to {file_name}\")"
      ]
    },
    {
      "cell_type": "code",
      "execution_count": 5,
      "metadata": {
        "id": "OBgjHWDS93CI"
      },
      "outputs": [],
      "source": [
        "class Embeddings:\n",
        "  def __init__(self, item_embeddings):\n",
        "    self.item_embeddings = item_embeddings\n",
        "  \n",
        "  def size(self):\n",
        "    return self.item_embeddings.shape[1]\n",
        "  \n",
        "  def get_embedding_vector(self):\n",
        "    return self.item_embeddings\n",
        "  \n",
        "  def get_embedding(self, item_index):\n",
        "    return self.item_embeddings[item_index]\n",
        "\n",
        "  def embed(self, item_list):\n",
        "    return np.array([self.get_embedding(item) for item in item_list])"
      ]
    },
    {
      "cell_type": "markdown",
      "metadata": {
        "id": "QDAfxBwT96Xh"
      },
      "source": [
        "### Functions to help in loading the train and test data and embeddings saved"
      ]
    },
    {
      "cell_type": "code",
      "execution_count": 6,
      "metadata": {
        "id": "XRxo0mjfNWa-"
      },
      "outputs": [],
      "source": [
        "def file_reading(data_path):\n",
        "  ''' Load data from train.csv or test.csv. '''\n",
        "\n",
        "  data = pd.read_csv(data_path, sep=';')\n",
        "  for col in ['state', 'n_state', 'action_reward']:\n",
        "    data[col] = [np.array([[int(k) for k in ee.split('&')] for ee in e.split('|')]) for e in data[col]]\n",
        "  for col in ['state', 'n_state']:\n",
        "    data[col] = [np.array([e[0] for e in l]) for l in data[col]]\n",
        "\n",
        "  data['action'] = [[e[0] for e in l] for l in data['action_reward']]\n",
        "  data['reward'] = [tuple(e[1] for e in l) for l in data['action_reward']]\n",
        "  data.drop(columns=['action_reward'], inplace=True)\n",
        "\n",
        "  return data\n",
        "\n",
        "def embeddings_reading(embeddings_path):\n",
        "  ''' Load embeddings (a vector for each item). '''\n",
        "  \n",
        "  embeddings = pd.read_csv(embeddings_path, sep=';')\n",
        "\n",
        "  return np.array([[np.float64(k) for k in e.split('|')]\n",
        "                   for e in embeddings['vectors']])"
      ]
    },
    {
      "cell_type": "markdown",
      "metadata": {
        "id": "mn93RKRzNXKy"
      },
      "source": [
        "## **4. Environment Simulator**"
      ]
    },
    {
      "cell_type": "markdown",
      "metadata": {
        "id": "UM2y58-L-jwV"
      },
      "source": [
        "### Modelling the recommendation problem as MDP : Markov Decision Process\n",
        "1. The states, actions, rewards, trainsition probabilities, discount factor are defined\n",
        "  1. States S : The previously rated set of moveis sorted with respect to time ( old to latest ratings) for a user\n",
        "  2. Actions A : Recommend a list of items to a user at time t based on current state\n",
        "  3. Reward R : based on the rating given by the user\n",
        "  4. Transition probabilities :  the probability of state transition from st to st+1 for taking action at.\n",
        "  5. Discount factor : value lying between 0 and 1"
      ]
    },
    {
      "cell_type": "code",
      "execution_count": 8,
      "metadata": {},
      "outputs": [],
      "source": [
        "class Environment:\n",
        "    def __init__(self, data, embeddings, alpha, gamma, fixed_length):\n",
        "        self.embeddings   = embeddings\n",
        "        self.alpha        = alpha\n",
        "        self.gamma        = gamma\n",
        "        self.fixed_length = fixed_length\n",
        "\n",
        "        # Build embedded_data: each row has\n",
        "        #   'state' : np.array shape (history_length, embed_size)\n",
        "        #   'action': np.array shape (ra_length, embed_size)\n",
        "        #   'reward': whatever the raw reward sequence is\n",
        "        self.embedded_data = pd.DataFrame({\n",
        "            'state':  data['state'].apply(lambda seq: \n",
        "                        np.vstack([embeddings.get_embedding(i) for i in seq])),\n",
        "            'action': data['action'].apply(lambda seq: \n",
        "                        np.vstack([embeddings.get_embedding(i) for i in seq])),\n",
        "            'reward': data['reward']\n",
        "        })\n",
        "\n",
        "        self.current_state = self.reset()\n",
        "        self.groups        = self.get_groups()\n",
        "\n",
        "    def reset(self):\n",
        "        \"\"\"Pick a random initial state (history_length × embed_size).\"\"\"\n",
        "        return self.embedded_data['state'].sample(1).iloc[0].copy()\n",
        "\n",
        "    def step(self, actions):\n",
        "        \"\"\"\n",
        "        actions: np.array shape (ra_length, embed_size)\n",
        "        Returns: (reward_list: list[float], cum_reward: float)\n",
        "        Side-effect: updates self.current_state\n",
        "        \"\"\"\n",
        "        reward_list, cum_reward = self.simulate_rewards(\n",
        "            # flatten into (1, history_length*embed_size) & same for actions\n",
        "            self.current_state.reshape(1, -1),\n",
        "            actions.reshape(1, -1),\n",
        "        )\n",
        "\n",
        "        # Now update the state by appending positively-rewarded items\n",
        "        for idx, r in enumerate(reward_list):\n",
        "            if r > 0:\n",
        "                # append that action's embedding\n",
        "                self.current_state = np.vstack([self.current_state, actions[idx]])\n",
        "                if self.fixed_length:\n",
        "                    # drop oldest\n",
        "                    self.current_state = self.current_state[1:]\n",
        "\n",
        "        return reward_list, cum_reward\n",
        "\n",
        "    def get_groups(self):\n",
        "        \"\"\"\n",
        "        Groups rows by identical reward sequences. For each group, we store:\n",
        "          - size:      number of rows\n",
        "          - rewards:   flat list of floats\n",
        "          - avg_state: 1-D np.array of length embed_size\n",
        "          - avg_action:1-D np.array of length embed_size\n",
        "        \"\"\"\n",
        "        groups = []\n",
        "        for reward_seq, grp in self.embedded_data.groupby('reward'):\n",
        "            # stack all state embeddings: shape (N * history_length, embed_size)\n",
        "            states  = np.vstack(grp['state'].values)\n",
        "            actions = np.vstack(grp['action'].values)\n",
        "\n",
        "            # normalize each row, then average\n",
        "            def norm_rows(X):\n",
        "                n = np.linalg.norm(X, axis=1, keepdims=True)\n",
        "                return X / np.maximum(n, 1e-8)\n",
        "\n",
        "            avg_s = norm_rows(states).mean(axis=0)   # (embed_size,)\n",
        "            avg_a = norm_rows(actions).mean(axis=0)  # (embed_size,)\n",
        "\n",
        "            groups.append({\n",
        "                'size':          len(grp),\n",
        "                'rewards':       np.array(reward_seq).flatten().tolist(),\n",
        "                'avg_state':     avg_s,\n",
        "                'avg_action':    avg_a,\n",
        "            })\n",
        "        return groups\n",
        "\n",
        "    def simulate_rewards(self, current_state, chosen_actions, reward_type='grouped cosine'):\n",
        "        \"\"\"\n",
        "        current_state:   (1, history_length*embed_size)\n",
        "        chosen_actions:  (1, ra_length*embed_size)\n",
        "        Returns:\n",
        "          - returned_rewards: flat list of floats\n",
        "          - cumulated_reward: float\n",
        "        \"\"\"\n",
        "        # helper to flatten nested lists\n",
        "        def flatten(x):\n",
        "            return np.array(x).flatten().tolist()\n",
        "\n",
        "        # collapse history/actions down to a single embedding\n",
        "        state_seq  = current_state.reshape(-1, self.embeddings.size())  # (history_length, embed)\n",
        "        action_seq = chosen_actions.reshape(-1, self.embeddings.size()) # (ra_length, embed)\n",
        "        state_emb  = state_seq.mean(axis=0)\n",
        "        action_emb = action_seq.mean(axis=0)\n",
        "\n",
        "        # compute a cosine-blended score for each group\n",
        "        scores = []\n",
        "        for g in self.groups:\n",
        "            gs = g['avg_state']\n",
        "            ga = g['avg_action']\n",
        "            cos_s = np.dot(state_emb, gs) / (np.linalg.norm(state_emb)*np.linalg.norm(gs) + 1e-8)\n",
        "            cos_a = np.dot(action_emb, ga) / (np.linalg.norm(action_emb)*np.linalg.norm(ga) + 1e-8)\n",
        "            scores.append(self.alpha * cos_s + (1-self.alpha) * cos_a)\n",
        "\n",
        "        # normalize into a probability distribution\n",
        "        probs = np.array(scores)\n",
        "        probs /= (probs.sum() + 1e-8)\n",
        "\n",
        "        # pick the most likely group\n",
        "        idx = int(np.argmax(probs))\n",
        "\n",
        "        # grab & flatten that group's rewards\n",
        "        returned_rewards = flatten(\n",
        "            self.embedded_data.iloc[idx]['reward']\n",
        "            if reward_type == 'normal'\n",
        "            else self.groups[idx]['rewards']\n",
        "        )\n",
        "\n",
        "        # compute a single discounted sum\n",
        "        cum_reward = sum((self.gamma**k) * r for k, r in enumerate(returned_rewards))\n",
        "\n",
        "        return returned_rewards, cum_reward\n"
      ]
    },
    {
      "cell_type": "markdown",
      "metadata": {
        "id": "EYw33rm9NjRv"
      },
      "source": [
        "## **5. Actor**"
      ]
    },
    {
      "cell_type": "markdown",
      "metadata": {
        "id": "C8dAIRFgBkL8"
      },
      "source": [
        "### The actor framework created\n",
        "\n",
        "2 steps in the framework : A state-specific scoring function, which rates items according to\n",
        "user’s current state; instead of just considering the average.\n",
        "1. State-specific scoring function parameter generating. \n",
        "2. action generating.\n"
      ]
    },
    {
      "cell_type": "code",
      "execution_count": 9,
      "metadata": {},
      "outputs": [],
      "source": [
        "class Actor:\n",
        "    \"\"\"DDPG Actor that maps state-sequences → action-embeddings.\"\"\"\n",
        "\n",
        "    def __init__(\n",
        "        self,\n",
        "        sess,\n",
        "        state_space_size: int,\n",
        "        action_space_size: int,\n",
        "        batch_size: int,\n",
        "        ra_length: int,\n",
        "        history_length: int,\n",
        "        embedding_size: int,\n",
        "        tau: float,\n",
        "        learning_rate: float,\n",
        "        scope: str = \"actor\",\n",
        "    ):\n",
        "        self.sess               = sess\n",
        "        self.state_space_size   = state_space_size\n",
        "        self.action_space_size  = action_space_size\n",
        "        self.batch_size         = batch_size\n",
        "        self.ra_length          = ra_length\n",
        "        self.history_length     = history_length\n",
        "        self.embedding_size     = embedding_size\n",
        "        self.tau                = tau\n",
        "        self.learning_rate      = learning_rate\n",
        "        self.scope              = scope\n",
        "\n",
        "        with tf.variable_scope(self.scope):\n",
        "            # build online net\n",
        "            (\n",
        "                self.action_weights,\n",
        "                self.state_ph,\n",
        "                self.seq_lens_ph,\n",
        "            ) = self._build_net(\"online\")\n",
        "            self.network_params = tf.trainable_variables(\n",
        "                scope=tf.get_variable_scope().name + \"/online\"\n",
        "            )\n",
        "\n",
        "            # build target net\n",
        "            (\n",
        "                self.target_action_weights,\n",
        "                self.target_state_ph,\n",
        "                self.target_seq_lens_ph,\n",
        "            ) = self._build_net(\"target\")\n",
        "            all_vars = tf.trainable_variables()\n",
        "            self.target_network_params = [\n",
        "                v for v in all_vars if v not in self.network_params\n",
        "            ]\n",
        "\n",
        "            # init & soft-update ops\n",
        "            self.init_target = [\n",
        "                t.assign(s)\n",
        "                for s, t in zip(self.network_params, self.target_network_params)\n",
        "            ]\n",
        "            self.update_target = [\n",
        "                t.assign(self.tau * s + (1.0 - self.tau) * t)\n",
        "                for s, t in zip(self.network_params, self.target_network_params)\n",
        "            ]\n",
        "\n",
        "            # placeholder for dQ/da\n",
        "            self.action_grads = tf.placeholder(\n",
        "                tf.float32, [None, self.action_space_size], name=\"action_grads\"\n",
        "            )\n",
        "\n",
        "            # ∇θ π(s) · dQ/da\n",
        "            unnorm = tf.gradients(\n",
        "                tf.reshape(self.action_weights, [self.batch_size, self.action_space_size]),\n",
        "                self.network_params,\n",
        "                grad_ys=self.action_grads,\n",
        "            )\n",
        "            self.policy_grads = [\n",
        "                g / (self.batch_size * self.action_space_size) for g in unnorm\n",
        "            ]\n",
        "\n",
        "            # apply via Adam\n",
        "            self.optimizer = tf.train.AdamOptimizer(self.learning_rate).apply_gradients(\n",
        "                zip(self.policy_grads, self.network_params)\n",
        "            )\n",
        "\n",
        "    def _build_net(self, scope: str):\n",
        "        \"\"\"Build one copy (online or target) using TF-1.x RNN + manual Dense.\"\"\"\n",
        "        def gather_last_output(all_outputs, seq_lens):\n",
        "            batch_idx = tf.range(tf.shape(all_outputs)[0], dtype=tf.int32)\n",
        "            last_idxs = seq_lens - 1\n",
        "            idxs      = tf.stack([batch_idx, last_idxs], axis=1)\n",
        "            return tf.gather_nd(all_outputs, idxs)\n",
        "\n",
        "        with tf.variable_scope(scope):\n",
        "            # 1) placeholders\n",
        "            state_ph    = tf.placeholder(\n",
        "                tf.float32, [None, self.state_space_size], name=\"state\"\n",
        "            )\n",
        "            seq_lens_ph = tf.placeholder(\n",
        "                tf.int32,   [None],                   name=\"sequence_length\"\n",
        "            )\n",
        "\n",
        "            # 2) reshape flat → [batch, time, embed]\n",
        "            seq_input = tf.reshape(\n",
        "                state_ph, [-1, self.history_length, self.embedding_size]\n",
        "            )\n",
        "\n",
        "            # 3) TF-1 GRUCell + dynamic_rnn\n",
        "            cell = tf.nn.rnn_cell.GRUCell(self.embedding_size)\n",
        "            outputs, final_state = tf.nn.dynamic_rnn(\n",
        "                cell,\n",
        "                seq_input,\n",
        "                sequence_length=seq_lens_ph,\n",
        "                dtype=tf.float32,\n",
        "                scope=\"gru_rnn\",\n",
        "            )\n",
        "\n",
        "            # 4) take the final_state ([batch, embed])\n",
        "            last_out = final_state\n",
        "\n",
        "            # 5) manual Dense: W · last_out + b\n",
        "            with tf.variable_scope(\"out_dense\"):\n",
        "                W = tf.get_variable(\n",
        "                    \"kernel\",\n",
        "                    shape=[self.embedding_size, self.ra_length * self.embedding_size],\n",
        "                    initializer=tf.random_normal_initializer(),\n",
        "                )\n",
        "                b = tf.get_variable(\n",
        "                    \"bias\",\n",
        "                    shape=[self.ra_length * self.embedding_size],\n",
        "                    initializer=tf.zeros_initializer(),\n",
        "                )\n",
        "                dense_out = tf.matmul(last_out, W) + b\n",
        "\n",
        "            # 6) reshape → (batch, ra_length, embedding_size)\n",
        "            action_weights = tf.reshape(\n",
        "                dense_out, [-1, self.ra_length, self.embedding_size], name=\"action_weights\"\n",
        "            )\n",
        "\n",
        "            return action_weights, state_ph, seq_lens_ph\n",
        "\n",
        "    def train(self, state_batch, seq_lens_batch, action_grads):\n",
        "        self.sess.run(\n",
        "            self.optimizer,\n",
        "            feed_dict={\n",
        "                self.state_ph:     state_batch,\n",
        "                self.seq_lens_ph:  seq_lens_batch,\n",
        "                self.action_grads: action_grads,\n",
        "            },\n",
        "        )\n",
        "\n",
        "    def predict(self, state_batch, seq_lens_batch):\n",
        "        return self.sess.run(\n",
        "            self.action_weights,\n",
        "            feed_dict={\n",
        "                self.state_ph:    state_batch,\n",
        "                self.seq_lens_ph: seq_lens_batch,\n",
        "            },\n",
        "        )\n",
        "\n",
        "    def predict_target(self, state_batch, seq_lens_batch):\n",
        "        return self.sess.run(\n",
        "            self.target_action_weights,\n",
        "            feed_dict={\n",
        "                self.target_state_ph:    state_batch,\n",
        "                self.target_seq_lens_ph: seq_lens_batch,\n",
        "            },\n",
        "        )\n",
        "\n",
        "    def init_target_network(self):\n",
        "        self.sess.run(self.init_target)\n",
        "\n",
        "    def update_target_network(self):\n",
        "        self.sess.run(self.update_target)\n",
        "\n",
        "    def get_recommendation_list(self, ra_length, noisy_state, embeddings, target=False):\n",
        "   \n",
        "        def get_score(weights, embedding, batch_size):\n",
        "        \n",
        "            ret = np.dot(weights, embedding.T)\n",
        "            return ret\n",
        "\n",
        "        batch_size = noisy_state.shape[0]\n",
        "\n",
        "        # Generate w_t = {w_t^1, ..., w_t^K} \n",
        "        method = self.predict_target if target else self.predict\n",
        "        weights = method(noisy_state, [ra_length] * batch_size)\n",
        "\n",
        "        # Score items \n",
        "        scores = np.array([[[get_score(weights[i][k], embedding, batch_size)\n",
        "            for embedding in embeddings.get_embedding_vector()]\n",
        "            for k in range(ra_length)]\n",
        "            for i in range(batch_size)])\n",
        "\n",
        "        return np.array([[embeddings.get_embedding(np.argmax(scores[i][k]))\n",
        "            for k in range(ra_length)]\n",
        "            for i in range(batch_size)])\n"
      ]
    },
    {
      "cell_type": "markdown",
      "metadata": {
        "id": "-nT-mTv7Ns5r"
      },
      "source": [
        "## **6. Critic**"
      ]
    },
    {
      "cell_type": "markdown",
      "metadata": {
        "id": "BnUyTGFeDQ2w"
      },
      "source": [
        "### An approximator to learn the action-value function \n",
        "1. Necessary for the judgment of whether the action at generated by Actor matches the current state st\n",
        "2. Updation of parameters in the direction of improving the performance"
      ]
    },
    {
      "cell_type": "code",
      "execution_count": 10,
      "metadata": {
        "id": "h4XIrmbFNu2P"
      },
      "outputs": [],
      "source": [
        "class Critic:\n",
        "    \"\"\"DDPG Critic that maps (state-seq, action) → Q-value.\"\"\"\n",
        "\n",
        "    def __init__(\n",
        "        self,\n",
        "        sess,\n",
        "        state_space_size: int,\n",
        "        action_space_size: int,\n",
        "        history_length: int,\n",
        "        embedding_size: int,\n",
        "        tau: float,\n",
        "        learning_rate: float,\n",
        "        scope: str = \"critic\",\n",
        "    ):\n",
        "        self.sess              = sess\n",
        "        self.state_space_size  = state_space_size\n",
        "        self.action_space_size = action_space_size\n",
        "        self.history_length    = history_length\n",
        "        self.embedding_size    = embedding_size\n",
        "        self.tau               = tau\n",
        "        self.learning_rate     = learning_rate\n",
        "        self.scope             = scope\n",
        "\n",
        "        with tf.variable_scope(self.scope):\n",
        "            # online critic\n",
        "            (\n",
        "                self.critic_Q_value,\n",
        "                self.state_ph,\n",
        "                self.action_ph,\n",
        "                self.seq_lens_ph,\n",
        "            ) = self._build_net(\"estimator_critic\")\n",
        "            self.network_params = tf.get_collection(\n",
        "                tf.GraphKeys.TRAINABLE_VARIABLES, scope=self.scope + \"/estimator_critic\"\n",
        "            )\n",
        "\n",
        "            # target critic\n",
        "            (\n",
        "                self.target_Q_value,\n",
        "                self.target_state_ph,\n",
        "                self.target_action_ph,\n",
        "                self.target_seq_lens_ph,\n",
        "            ) = self._build_net(\"target_critic\")\n",
        "            self.target_network_params = tf.get_collection(\n",
        "                tf.GraphKeys.TRAINABLE_VARIABLES, scope=self.scope + \"/target_critic\"\n",
        "            )\n",
        "\n",
        "            # init & soft-update\n",
        "            self.init_target_params = [\n",
        "                t.assign(s)\n",
        "                for s, t in zip(self.network_params, self.target_network_params)\n",
        "            ]\n",
        "            self.update_target_params = [\n",
        "                t.assign(self.tau * s + (1.0 - self.tau) * t)\n",
        "                for s, t in zip(self.network_params, self.target_network_params)\n",
        "            ]\n",
        "\n",
        "            # placeholder for target Q\n",
        "            self.expected_reward = tf.placeholder(\n",
        "                tf.float32, [None, 1], name=\"expected_reward\"\n",
        "            )\n",
        "            # MSE loss\n",
        "            self.loss = tf.reduce_mean(\n",
        "                tf.squared_difference(self.expected_reward, self.critic_Q_value)\n",
        "            )\n",
        "            self.optimizer = tf.train.AdamOptimizer(self.learning_rate).minimize(self.loss)\n",
        "\n",
        "            # action‐gradient for actor\n",
        "            self.action_gradients = tf.gradients(self.critic_Q_value, self.action_ph)\n",
        "\n",
        "    def _build_net(self, scope: str):\n",
        "        def gather_last_output(all_outputs, seq_lens):\n",
        "            batch_idx = tf.range(tf.shape(all_outputs)[0], dtype=tf.int32)\n",
        "            last_idxs = seq_lens - 1\n",
        "            idxs      = tf.stack([batch_idx, last_idxs], axis=1)\n",
        "            return tf.gather_nd(all_outputs, idxs)\n",
        "\n",
        "        with tf.variable_scope(scope):\n",
        "            # placeholders\n",
        "            state_ph  = tf.placeholder(\n",
        "                tf.float32, [None, self.state_space_size], name=\"state\"\n",
        "            )\n",
        "            action_ph = tf.placeholder(\n",
        "                tf.float32, [None, self.action_space_size], name=\"action\"\n",
        "            )\n",
        "            seq_lens_ph = tf.placeholder(\n",
        "                tf.int32, [None], name=\"sequence_length\"\n",
        "            )\n",
        "\n",
        "            # reshape state → [batch, time, embed]\n",
        "            state_seq = tf.reshape(\n",
        "                state_ph, [-1, self.history_length, self.embedding_size]\n",
        "            )\n",
        "\n",
        "            # TF-1.x GRUCell + dynamic_rnn\n",
        "            cell = tf.nn.rnn_cell.GRUCell(self.embedding_size)\n",
        "            outputs, final_state = tf.nn.dynamic_rnn(\n",
        "                cell,\n",
        "                state_seq,\n",
        "                sequence_length=seq_lens_ph,\n",
        "                dtype=tf.float32,\n",
        "                scope=\"gru_rnn\",\n",
        "            )\n",
        "            # final_state: [batch, embedding_size]\n",
        "            last_out = final_state\n",
        "\n",
        "            # concat state embedding + action\n",
        "            concat = tf.concat([last_out, action_ph], axis=1)\n",
        "\n",
        "            # fully-connected layers, built manually:\n",
        "            with tf.variable_scope(\"fc1\"):\n",
        "                W1 = tf.get_variable(\n",
        "                    \"W1\",\n",
        "                    shape=[self.embedding_size + self.action_space_size, 32],\n",
        "                    initializer=tf.random_normal_initializer()\n",
        "                )\n",
        "                b1 = tf.get_variable(\n",
        "                    \"b1\", shape=[32], initializer=tf.zeros_initializer()\n",
        "                )\n",
        "                layer1 = tf.nn.relu(tf.matmul(concat, W1) + b1)\n",
        "\n",
        "            with tf.variable_scope(\"fc2\"):\n",
        "                W2 = tf.get_variable(\n",
        "                    \"W2\", shape=[32, 16], initializer=tf.random_normal_initializer()\n",
        "                )\n",
        "                b2 = tf.get_variable(\n",
        "                    \"b2\", shape=[16], initializer=tf.zeros_initializer()\n",
        "                )\n",
        "                layer2 = tf.nn.relu(tf.matmul(layer1, W2) + b2)\n",
        "\n",
        "            with tf.variable_scope(\"out\"):\n",
        "                W3 = tf.get_variable(\n",
        "                    \"W3\", shape=[16, 1], initializer=tf.random_normal_initializer()\n",
        "                )\n",
        "                b3 = tf.get_variable(\n",
        "                    \"b3\", shape=[1], initializer=tf.zeros_initializer()\n",
        "                )\n",
        "                critic_Q_value = tf.matmul(layer2, W3) + b3\n",
        "\n",
        "            return critic_Q_value, state_ph, action_ph, seq_lens_ph\n",
        "\n",
        "    def train(self, state, action, seq_lens, expected_reward):\n",
        "        return self.sess.run(\n",
        "            [self.critic_Q_value, self.loss, self.optimizer],\n",
        "            feed_dict={\n",
        "                self.state_ph:          state,\n",
        "                self.action_ph:         action,\n",
        "                self.seq_lens_ph:       seq_lens,\n",
        "                self.expected_reward:   expected_reward,\n",
        "            },\n",
        "        )\n",
        "\n",
        "    def predict(self, state, action, seq_lens):\n",
        "        return self.sess.run(\n",
        "            self.critic_Q_value,\n",
        "            feed_dict={\n",
        "                self.state_ph:    state,\n",
        "                self.action_ph:   action,\n",
        "                self.seq_lens_ph: seq_lens,\n",
        "            },\n",
        "        )\n",
        "\n",
        "    def predict_target(self, state, action, seq_lens):\n",
        "        return self.sess.run(\n",
        "            self.target_Q_value,\n",
        "            feed_dict={\n",
        "                self.target_state_ph:    state,\n",
        "                self.target_action_ph:   action,\n",
        "                self.target_seq_lens_ph: seq_lens,\n",
        "            },\n",
        "        )\n",
        "\n",
        "    def get_action_gradients(self, state, action, seq_lens):\n",
        "        return self.sess.run(\n",
        "            self.action_gradients[0],\n",
        "            feed_dict={\n",
        "                self.state_ph:    state,\n",
        "                self.action_ph:   action,\n",
        "                self.seq_lens_ph: seq_lens,\n",
        "            },\n",
        "        )\n",
        "\n",
        "    def init_target_network(self):\n",
        "        self.sess.run(self.init_target_params)\n",
        "\n",
        "    def update_target_network(self):\n",
        "        self.sess.run(self.update_target_params)\n"
      ]
    },
    {
      "cell_type": "markdown",
      "metadata": {
        "id": "khxQKASgN2SJ"
      },
      "source": [
        "## **7. Replay**"
      ]
    },
    {
      "cell_type": "markdown",
      "metadata": {
        "id": "T-JgMEpTE_lf"
      },
      "source": [
        "### The states and rewards for transitions are stored"
      ]
    },
    {
      "cell_type": "code",
      "execution_count": 11,
      "metadata": {
        "id": "clEPq0jYN-Pv"
      },
      "outputs": [],
      "source": [
        "class ReplayMemory():\n",
        "  ''' Replay memory D in article '''\n",
        "  \n",
        "  def __init__(self, buffer_size):\n",
        "    self.buffer_size = buffer_size\n",
        "    self.buffer = []\n",
        "\n",
        "  def add(self, state, action, reward, n_state):\n",
        "    self.buffer.append([state, action, reward, n_state])\n",
        "    if len(self.buffer) > self.buffer_size:\n",
        "      self.buffer.pop(0)\n",
        "\n",
        "  def size(self):\n",
        "    return len(self.buffer)\n",
        "\n",
        "  def sample_batch(self, batch_size):\n",
        "    return random.sample(self.buffer, batch_size)"
      ]
    },
    {
      "cell_type": "code",
      "execution_count": 12,
      "metadata": {
        "id": "FR_iIrSLODGz"
      },
      "outputs": [],
      "source": [
        "def experience_replay(\n",
        "    replay_memory,\n",
        "    batch_size,\n",
        "    actor,\n",
        "    critic,\n",
        "    embeddings,\n",
        "    ra_length,\n",
        "    state_space_size,\n",
        "    action_space_size,\n",
        "    discount_factor,\n",
        "    history_length,       # add this argument\n",
        "):\n",
        "    \"\"\"\n",
        "    Experience replay:\n",
        "      - samples from replay_memory\n",
        "      - updates Critic via TD targets\n",
        "      - updates Actor via DPG gradient\n",
        "    Returns (max_Q_in_batch, critic_loss)\n",
        "    \"\"\"\n",
        "    # 1) Sample minibatch\n",
        "    samples = replay_memory.sample_batch(batch_size)\n",
        "    states  = np.array([s[0] for s in samples])                             # (B, S)\n",
        "    actions = np.array([s[1] for s in samples])                             # (B, A)\n",
        "    rewards = np.array([s[2] for s in samples]).reshape(-1, 1)              # (B, 1)\n",
        "    n_states= np.array([s[3] for s in samples]).reshape(-1, state_space_size)\n",
        "\n",
        "    # 2) Next‐actions via target Actor\n",
        "    n_actions = actor.get_recommendation_list(\n",
        "        ra_length, states, embeddings, target=True\n",
        "    ).reshape(-1, action_space_size)                                        # (B, A)\n",
        "\n",
        "    # 3) Target Q′(s′, a′)\n",
        "    #    Note: seq lens for Critic = history_length (state sequence)\n",
        "    target_Q_value = critic.predict_target(\n",
        "        n_states, n_actions, [history_length] * batch_size\n",
        "    )                                                                       # (B, 1)\n",
        "\n",
        "    # 4) Build TD target: y = r + γ Q′\n",
        "    expected_rewards = rewards + discount_factor * target_Q_value           # (B, 1)\n",
        "\n",
        "    # 5) Update Critic: minimize (y − Q(s,a))²\n",
        "    critic_Q_value, critic_loss, _ = critic.train(\n",
        "        states,\n",
        "        actions,\n",
        "        [history_length] * batch_size,\n",
        "        expected_rewards\n",
        "    )\n",
        "\n",
        "    # 6) Update Actor: ∇_a Q(s,a) at a=π(s)\n",
        "    action_grads = critic.get_action_gradients(\n",
        "        states,\n",
        "        n_actions,\n",
        "        [history_length] * batch_size\n",
        "    )\n",
        "    actor.train(states, [history_length] * batch_size, action_grads)\n",
        "\n",
        "    # 7) Soft‐update target networks\n",
        "    critic.update_target_network()\n",
        "    actor.update_target_network()\n",
        "\n",
        "    # return the batch’s max Q-value and the critic loss\n",
        "    return np.amax(critic_Q_value), critic_loss\n"
      ]
    },
    {
      "cell_type": "markdown",
      "metadata": {
        "id": "l1OyZWy6OEB_"
      },
      "source": [
        "## **8. Training**"
      ]
    },
    {
      "cell_type": "markdown",
      "metadata": {
        "id": "glTSEJktFpUe"
      },
      "source": [
        "### Using the train data to build and train a model\n",
        "1. Parameters are trained\n",
        "2. Updation of the actor and critic network\n",
        "3. Saving the trained model\n"
      ]
    },
    {
      "cell_type": "code",
      "execution_count": 13,
      "metadata": {
        "id": "mXLD3yFmOHwt"
      },
      "outputs": [],
      "source": [
        "class Noise:\n",
        "  ''' Noise for Actor predictions '''\n",
        "  def __init__(self, action_space_size, mu=0, theta=0.5, sigma=0.2):\n",
        "    self.action_space_size = action_space_size\n",
        "    self.mu = mu\n",
        "    self.theta = theta\n",
        "    self.sigma = sigma\n",
        "    self.state = np.ones(self.action_space_size) * self.mu\n",
        "\n",
        "  def get(self):\n",
        "    self.state += self.theta * (self.mu - self.state) + self.sigma * np.random.rand(self.action_space_size)\n",
        "    return self.state"
      ]
    },
    {
      "cell_type": "code",
      "execution_count": 14,
      "metadata": {},
      "outputs": [],
      "source": [
        "def train(\n",
        "    sess,\n",
        "    environment,\n",
        "    actor,\n",
        "    critic,\n",
        "    embeddings,\n",
        "    history_length,\n",
        "    ra_length,\n",
        "    buffer_size,\n",
        "    batch_size,\n",
        "    discount_factor,\n",
        "    nb_episodes,\n",
        "    filename_summary,\n",
        "):\n",
        "    # 1) Summary ops\n",
        "    def build_summaries():\n",
        "        ep_reward = tf.Variable(0.0, name=\"episode_reward\")\n",
        "        tf.summary.scalar(\"reward\", ep_reward)\n",
        "        ep_maxQ = tf.Variable(0.0, name=\"max_Q_value\")\n",
        "        tf.summary.scalar(\"max_Q_value\", ep_maxQ)\n",
        "        crit_loss = tf.Variable(0.0, name=\"critic_loss\")\n",
        "        tf.summary.scalar(\"critic_loss\", crit_loss)\n",
        "        vars_ = [ep_reward, ep_maxQ, crit_loss]\n",
        "        ops_  = tf.summary.merge_all()\n",
        "        return ops_, vars_\n",
        "\n",
        "    summary_ops, summary_vars = build_summaries()\n",
        "    sess.run(tf.global_variables_initializer())\n",
        "    writer = tf.summary.FileWriter(filename_summary, sess.graph)\n",
        "\n",
        "    # 2) Init target networks\n",
        "    actor.init_target_network()\n",
        "    critic.init_target_network()\n",
        "\n",
        "    # 3) Replay memory\n",
        "    replay_memory = ReplayMemory(buffer_size)\n",
        "    replay = False\n",
        "\n",
        "    start_time = time.time()\n",
        "    for ep in range(nb_episodes):\n",
        "        session_reward = 0.0\n",
        "        session_Q       = 0.0\n",
        "        session_loss    = 0.0\n",
        "\n",
        "        # reset environment\n",
        "        states = environment.reset()\n",
        "\n",
        "        # optionally refresh grouping every 10 episodes\n",
        "        if (ep + 1) % 10 == 0:\n",
        "            environment.groups = environment.get_groups()\n",
        "\n",
        "        # per‐step noise (if you use it)\n",
        "        exploration_noise = Noise(history_length * embeddings.size())\n",
        "\n",
        "        # loop over rounds\n",
        "        for t in range(nb_rounds):\n",
        "            # 4) select action\n",
        "            actions = actor.get_recommendation_list(\n",
        "                ra_length,\n",
        "                states.reshape(1, -1),\n",
        "                embeddings\n",
        "            ).reshape(ra_length, embeddings.size())\n",
        "\n",
        "            # 5) step → returns (list_of_item_rewards, cumulated_reward)\n",
        "            reward_list, cum_reward = environment.step(actions)\n",
        "            next_states = environment.current_state\n",
        "\n",
        "            # 6) store scalar reward & transition\n",
        "            replay_memory.add(\n",
        "                states.reshape(history_length * embeddings.size()),\n",
        "                actions.reshape(ra_length * embeddings.size()),\n",
        "                cum_reward,\n",
        "                next_states.reshape(history_length * embeddings.size()),\n",
        "            )\n",
        "\n",
        "            # 7) advance\n",
        "            states = next_states\n",
        "            session_reward += cum_reward\n",
        "\n",
        "            # 8) experience replay / update\n",
        "            if replay_memory.size() >= batch_size:\n",
        "                replay = True\n",
        "                q_val, loss = experience_replay(\n",
        "                    replay_memory,\n",
        "                    batch_size,\n",
        "                    actor,\n",
        "                    critic,\n",
        "                    embeddings,\n",
        "                    ra_length,\n",
        "                    history_length * embeddings.size(),\n",
        "                    ra_length * embeddings.size(),\n",
        "                    discount_factor,\n",
        "                    history_length\n",
        "                )\n",
        "                session_Q    += q_val\n",
        "                session_loss += loss\n",
        "\n",
        "            # 9) write summaries per episode\n",
        "            summary_str = sess.run(\n",
        "                summary_ops,\n",
        "                feed_dict={\n",
        "                    summary_vars[0]: session_reward,\n",
        "                    summary_vars[1]: session_Q,\n",
        "                    summary_vars[2]: session_loss,\n",
        "                },\n",
        "            )\n",
        "            writer.add_summary(summary_str, ep)\n",
        "\n",
        "        # 10) log\n",
        "        status = f\"Loss={session_loss:.4f}\" if replay else \"No replay\"\n",
        "        elapsed = int(time.time() - start_time)\n",
        "        print(\n",
        "            f\"Episode {ep+1}/{nb_episodes}  \"\n",
        "            f\"Reward={session_reward:.2f}  Time={elapsed}s  {status}\"\n",
        "        )\n",
        "        start_time = time.time()\n",
        "\n",
        "    writer.close()\n",
        "    tf.train.Saver().save(sess, 'models.h5', write_meta_graph=False)\n"
      ]
    },
    {
      "cell_type": "code",
      "execution_count": 15,
      "metadata": {
        "colab": {
          "base_uri": "https://localhost:8080/"
        },
        "id": "9JmA3pQHOz5P",
        "outputId": "d2429bd1-d31d-4aef-b887-702a171ee9aa"
      },
      "outputs": [],
      "source": [
        "# Hyperparameters\n",
        "history_length = 20 # N in article\n",
        "ra_length = 10 # K in article\n",
        "discount_factor = 0.99 # Gamma in Bellman equation\n",
        "actor_lr = 0.0001\n",
        "critic_lr = 0.001\n",
        "tau = 0.001 # τ in Algorithm 3\n",
        "batch_size = 128\n",
        "nb_episodes = 5\n",
        "nb_rounds = 50\n",
        "filename_summary = 'summary.txt'\n",
        "alpha = 0.5 # α (alpha) in Equation (1)\n",
        "gamma = 0.9 # Γ (Gamma) in Equation (4)\n",
        "buffer_size = 1000000 # Size of replay memory D in article\n",
        "fixed_length = True # Fixed memory length\n",
        "\n",
        "dg = DataGenerator('ml-100k/u.data', 'ml-100k/u.item')\n",
        "dg.get_train_test_split(0.8, seed=42)\n",
        "\n",
        "dg.write_csv('train.csv', dg.train, nb_states=[history_length], nb_actions=[ra_length])\n",
        "dg.write_csv('test.csv', dg.test, nb_states=[history_length], nb_actions=[ra_length])\n",
        "\n",
        "data = file_reading('train.csv')"
      ]
    },
    {
      "cell_type": "code",
      "execution_count": 16,
      "metadata": {
        "colab": {
          "base_uri": "https://localhost:8080/",
          "height": 1000
        },
        "id": "6JzU_mMUO8XK",
        "outputId": "2df8dfdd-f446-471c-f3d4-6c9ebbe46f87"
      },
      "outputs": [
        {
          "name": "stderr",
          "output_type": "stream",
          "text": [
            "/Users/russellxia/Desktop/NYU_DS/RL/RL_Proj/rl_env/lib/python3.11/site-packages/keras/src/layers/core/dense.py:87: UserWarning: Do not pass an `input_shape`/`input_dim` argument to a layer. When using Sequential models, prefer using an `Input(shape)` object as the first layer in the model instead.\n",
            "  super().__init__(activity_regularizer=activity_regularizer, **kwargs)\n"
          ]
        },
        {
          "name": "stdout",
          "output_type": "stream",
          "text": [
            "1/50\n",
            "\u001b[1m157/157\u001b[0m \u001b[32m━━━━━━━━━━━━━━━━━━━━\u001b[0m\u001b[37m\u001b[0m \u001b[1m2s\u001b[0m 8ms/step - accuracy: 0.0073 - loss: 7.1475 - val_accuracy: 0.0148 - val_loss: 6.5378\n",
            "2/50\n",
            "\u001b[1m157/157\u001b[0m \u001b[32m━━━━━━━━━━━━━━━━━━━━\u001b[0m\u001b[37m\u001b[0m \u001b[1m1s\u001b[0m 8ms/step - accuracy: 0.0119 - loss: 6.4986 - val_accuracy: 0.0186 - val_loss: 6.2872\n",
            "3/50\n",
            "\u001b[1m157/157\u001b[0m \u001b[32m━━━━━━━━━━━━━━━━━━━━\u001b[0m\u001b[37m\u001b[0m \u001b[1m1s\u001b[0m 8ms/step - accuracy: 0.0107 - loss: 6.3523 - val_accuracy: 0.0160 - val_loss: 6.2152\n",
            "4/50\n",
            "\u001b[1m157/157\u001b[0m \u001b[32m━━━━━━━━━━━━━━━━━━━━\u001b[0m\u001b[37m\u001b[0m \u001b[1m1s\u001b[0m 8ms/step - accuracy: 0.0135 - loss: 6.2579 - val_accuracy: 0.0192 - val_loss: 6.1523\n",
            "5/50\n",
            "\u001b[1m157/157\u001b[0m \u001b[32m━━━━━━━━━━━━━━━━━━━━\u001b[0m\u001b[37m\u001b[0m \u001b[1m1s\u001b[0m 7ms/step - accuracy: 0.0154 - loss: 6.1884 - val_accuracy: 0.0190 - val_loss: 6.0780\n",
            "6/50\n",
            "\u001b[1m157/157\u001b[0m \u001b[32m━━━━━━━━━━━━━━━━━━━━\u001b[0m\u001b[37m\u001b[0m \u001b[1m1s\u001b[0m 8ms/step - accuracy: 0.0164 - loss: 6.0996 - val_accuracy: 0.0192 - val_loss: 6.0273\n",
            "7/50\n",
            "\u001b[1m157/157\u001b[0m \u001b[32m━━━━━━━━━━━━━━━━━━━━\u001b[0m\u001b[37m\u001b[0m \u001b[1m1s\u001b[0m 7ms/step - accuracy: 0.0227 - loss: 6.0552 - val_accuracy: 0.0238 - val_loss: 6.0064\n",
            "8/50\n",
            "\u001b[1m157/157\u001b[0m \u001b[32m━━━━━━━━━━━━━━━━━━━━\u001b[0m\u001b[37m\u001b[0m \u001b[1m1s\u001b[0m 8ms/step - accuracy: 0.0214 - loss: 6.0447 - val_accuracy: 0.0238 - val_loss: 5.9450\n",
            "9/50\n",
            "\u001b[1m157/157\u001b[0m \u001b[32m━━━━━━━━━━━━━━━━━━━━\u001b[0m\u001b[37m\u001b[0m \u001b[1m1s\u001b[0m 8ms/step - accuracy: 0.0260 - loss: 5.9724 - val_accuracy: 0.0290 - val_loss: 5.9999\n",
            "10/50\n",
            "\u001b[1m157/157\u001b[0m \u001b[32m━━━━━━━━━━━━━━━━━━━━\u001b[0m\u001b[37m\u001b[0m \u001b[1m1s\u001b[0m 8ms/step - accuracy: 0.0233 - loss: 5.9825 - val_accuracy: 0.0244 - val_loss: 5.9309\n",
            "11/50\n",
            "\u001b[1m157/157\u001b[0m \u001b[32m━━━━━━━━━━━━━━━━━━━━\u001b[0m\u001b[37m\u001b[0m \u001b[1m1s\u001b[0m 7ms/step - accuracy: 0.0322 - loss: 5.9195 - val_accuracy: 0.0312 - val_loss: 5.8678\n",
            "12/50\n",
            "\u001b[1m157/157\u001b[0m \u001b[32m━━━━━━━━━━━━━━━━━━━━\u001b[0m\u001b[37m\u001b[0m \u001b[1m1s\u001b[0m 7ms/step - accuracy: 0.0352 - loss: 5.9444 - val_accuracy: 0.0324 - val_loss: 5.8815\n",
            "13/50\n",
            "\u001b[1m157/157\u001b[0m \u001b[32m━━━━━━━━━━━━━━━━━━━━\u001b[0m\u001b[37m\u001b[0m \u001b[1m1s\u001b[0m 7ms/step - accuracy: 0.0359 - loss: 5.8604 - val_accuracy: 0.0390 - val_loss: 5.8600\n",
            "14/50\n",
            "\u001b[1m157/157\u001b[0m \u001b[32m━━━━━━━━━━━━━━━━━━━━\u001b[0m\u001b[37m\u001b[0m \u001b[1m1s\u001b[0m 7ms/step - accuracy: 0.0315 - loss: 5.8661 - val_accuracy: 0.0376 - val_loss: 5.8047\n",
            "15/50\n",
            "\u001b[1m157/157\u001b[0m \u001b[32m━━━━━━━━━━━━━━━━━━━━\u001b[0m\u001b[37m\u001b[0m \u001b[1m1s\u001b[0m 7ms/step - accuracy: 0.0377 - loss: 5.8998 - val_accuracy: 0.0394 - val_loss: 5.7721\n",
            "16/50\n",
            "\u001b[1m157/157\u001b[0m \u001b[32m━━━━━━━━━━━━━━━━━━━━\u001b[0m\u001b[37m\u001b[0m \u001b[1m1s\u001b[0m 7ms/step - accuracy: 0.0377 - loss: 5.8279 - val_accuracy: 0.0428 - val_loss: 5.7505\n",
            "17/50\n",
            "\u001b[1m157/157\u001b[0m \u001b[32m━━━━━━━━━━━━━━━━━━━━\u001b[0m\u001b[37m\u001b[0m \u001b[1m1s\u001b[0m 7ms/step - accuracy: 0.0365 - loss: 5.8088 - val_accuracy: 0.0452 - val_loss: 5.7862\n",
            "18/50\n",
            "\u001b[1m157/157\u001b[0m \u001b[32m━━━━━━━━━━━━━━━━━━━━\u001b[0m\u001b[37m\u001b[0m \u001b[1m1s\u001b[0m 7ms/step - accuracy: 0.0442 - loss: 5.8367 - val_accuracy: 0.0530 - val_loss: 5.7141\n",
            "19/50\n",
            "\u001b[1m157/157\u001b[0m \u001b[32m━━━━━━━━━━━━━━━━━━━━\u001b[0m\u001b[37m\u001b[0m \u001b[1m1s\u001b[0m 7ms/step - accuracy: 0.0452 - loss: 5.7779 - val_accuracy: 0.0560 - val_loss: 5.6727\n",
            "20/50\n",
            "\u001b[1m157/157\u001b[0m \u001b[32m━━━━━━━━━━━━━━━━━━━━\u001b[0m\u001b[37m\u001b[0m \u001b[1m1s\u001b[0m 7ms/step - accuracy: 0.0435 - loss: 5.7258 - val_accuracy: 0.0614 - val_loss: 5.6379\n",
            "21/50\n",
            "\u001b[1m157/157\u001b[0m \u001b[32m━━━━━━━━━━━━━━━━━━━━\u001b[0m\u001b[37m\u001b[0m \u001b[1m1s\u001b[0m 7ms/step - accuracy: 0.0541 - loss: 5.6459 - val_accuracy: 0.0638 - val_loss: 5.6136\n",
            "22/50\n",
            "\u001b[1m157/157\u001b[0m \u001b[32m━━━━━━━━━━━━━━━━━━━━\u001b[0m\u001b[37m\u001b[0m \u001b[1m1s\u001b[0m 7ms/step - accuracy: 0.0507 - loss: 5.7345 - val_accuracy: 0.0648 - val_loss: 5.6061\n",
            "23/50\n",
            "\u001b[1m157/157\u001b[0m \u001b[32m━━━━━━━━━━━━━━━━━━━━\u001b[0m\u001b[37m\u001b[0m \u001b[1m1s\u001b[0m 7ms/step - accuracy: 0.0583 - loss: 5.6735 - val_accuracy: 0.0616 - val_loss: 5.5974\n",
            "24/50\n",
            "\u001b[1m157/157\u001b[0m \u001b[32m━━━━━━━━━━━━━━━━━━━━\u001b[0m\u001b[37m\u001b[0m \u001b[1m1s\u001b[0m 7ms/step - accuracy: 0.0533 - loss: 5.6655 - val_accuracy: 0.0700 - val_loss: 5.5667\n",
            "25/50\n",
            "\u001b[1m157/157\u001b[0m \u001b[32m━━━━━━━━━━━━━━━━━━━━\u001b[0m\u001b[37m\u001b[0m \u001b[1m1s\u001b[0m 7ms/step - accuracy: 0.0612 - loss: 5.6290 - val_accuracy: 0.0724 - val_loss: 5.4970\n",
            "26/50\n",
            "\u001b[1m157/157\u001b[0m \u001b[32m━━━━━━━━━━━━━━━━━━━━\u001b[0m\u001b[37m\u001b[0m \u001b[1m1s\u001b[0m 8ms/step - accuracy: 0.0644 - loss: 5.5853 - val_accuracy: 0.0730 - val_loss: 5.4977\n",
            "27/50\n",
            "\u001b[1m157/157\u001b[0m \u001b[32m━━━━━━━━━━━━━━━━━━━━\u001b[0m\u001b[37m\u001b[0m \u001b[1m1s\u001b[0m 8ms/step - accuracy: 0.0625 - loss: 5.5951 - val_accuracy: 0.0826 - val_loss: 5.4688\n",
            "28/50\n",
            "\u001b[1m157/157\u001b[0m \u001b[32m━━━━━━━━━━━━━━━━━━━━\u001b[0m\u001b[37m\u001b[0m \u001b[1m1s\u001b[0m 8ms/step - accuracy: 0.0640 - loss: 5.5550 - val_accuracy: 0.0844 - val_loss: 5.4556\n",
            "29/50\n",
            "\u001b[1m157/157\u001b[0m \u001b[32m━━━━━━━━━━━━━━━━━━━━\u001b[0m\u001b[37m\u001b[0m \u001b[1m1s\u001b[0m 7ms/step - accuracy: 0.0713 - loss: 5.5251 - val_accuracy: 0.0934 - val_loss: 5.3985\n",
            "30/50\n",
            "\u001b[1m157/157\u001b[0m \u001b[32m━━━━━━━━━━━━━━━━━━━━\u001b[0m\u001b[37m\u001b[0m \u001b[1m1s\u001b[0m 8ms/step - accuracy: 0.0722 - loss: 5.5270 - val_accuracy: 0.0898 - val_loss: 5.3673\n",
            "31/50\n",
            "\u001b[1m157/157\u001b[0m \u001b[32m━━━━━━━━━━━━━━━━━━━━\u001b[0m\u001b[37m\u001b[0m \u001b[1m1s\u001b[0m 8ms/step - accuracy: 0.0877 - loss: 5.5098 - val_accuracy: 0.0968 - val_loss: 5.3576\n",
            "32/50\n",
            "\u001b[1m157/157\u001b[0m \u001b[32m━━━━━━━━━━━━━━━━━━━━\u001b[0m\u001b[37m\u001b[0m \u001b[1m1s\u001b[0m 8ms/step - accuracy: 0.0811 - loss: 5.4385 - val_accuracy: 0.1028 - val_loss: 5.3508\n",
            "33/50\n",
            "\u001b[1m157/157\u001b[0m \u001b[32m━━━━━━━━━━━━━━━━━━━━\u001b[0m\u001b[37m\u001b[0m \u001b[1m1s\u001b[0m 7ms/step - accuracy: 0.0782 - loss: 5.4561 - val_accuracy: 0.1070 - val_loss: 5.2825\n",
            "34/50\n",
            "\u001b[1m157/157\u001b[0m \u001b[32m━━━━━━━━━━━━━━━━━━━━\u001b[0m\u001b[37m\u001b[0m \u001b[1m1s\u001b[0m 8ms/step - accuracy: 0.0864 - loss: 5.4087 - val_accuracy: 0.1118 - val_loss: 5.2923\n",
            "35/50\n",
            "\u001b[1m157/157\u001b[0m \u001b[32m━━━━━━━━━━━━━━━━━━━━\u001b[0m\u001b[37m\u001b[0m \u001b[1m1s\u001b[0m 7ms/step - accuracy: 0.0926 - loss: 5.3561 - val_accuracy: 0.1142 - val_loss: 5.2154\n",
            "36/50\n",
            "\u001b[1m157/157\u001b[0m \u001b[32m━━━━━━━━━━━━━━━━━━━━\u001b[0m\u001b[37m\u001b[0m \u001b[1m1s\u001b[0m 7ms/step - accuracy: 0.1011 - loss: 5.3322 - val_accuracy: 0.1224 - val_loss: 5.2188\n",
            "37/50\n",
            "\u001b[1m157/157\u001b[0m \u001b[32m━━━━━━━━━━━━━━━━━━━━\u001b[0m\u001b[37m\u001b[0m \u001b[1m1s\u001b[0m 7ms/step - accuracy: 0.0968 - loss: 5.2899 - val_accuracy: 0.1260 - val_loss: 5.1565\n",
            "38/50\n",
            "\u001b[1m157/157\u001b[0m \u001b[32m━━━━━━━━━━━━━━━━━━━━\u001b[0m\u001b[37m\u001b[0m \u001b[1m1s\u001b[0m 7ms/step - accuracy: 0.0983 - loss: 5.3170 - val_accuracy: 0.1324 - val_loss: 5.1343\n",
            "39/50\n",
            "\u001b[1m157/157\u001b[0m \u001b[32m━━━━━━━━━━━━━━━━━━━━\u001b[0m\u001b[37m\u001b[0m \u001b[1m1s\u001b[0m 7ms/step - accuracy: 0.1046 - loss: 5.2648 - val_accuracy: 0.1350 - val_loss: 5.1154\n",
            "40/50\n",
            "\u001b[1m157/157\u001b[0m \u001b[32m━━━━━━━━━━━━━━━━━━━━\u001b[0m\u001b[37m\u001b[0m \u001b[1m1s\u001b[0m 7ms/step - accuracy: 0.1217 - loss: 5.1716 - val_accuracy: 0.1498 - val_loss: 5.0467\n",
            "41/50\n",
            "\u001b[1m157/157\u001b[0m \u001b[32m━━━━━━━━━━━━━━━━━━━━\u001b[0m\u001b[37m\u001b[0m \u001b[1m1s\u001b[0m 7ms/step - accuracy: 0.1167 - loss: 5.1913 - val_accuracy: 0.1538 - val_loss: 5.0372\n",
            "42/50\n",
            "\u001b[1m157/157\u001b[0m \u001b[32m━━━━━━━━━━━━━━━━━━━━\u001b[0m\u001b[37m\u001b[0m \u001b[1m1s\u001b[0m 7ms/step - accuracy: 0.1268 - loss: 5.1180 - val_accuracy: 0.1494 - val_loss: 5.0495\n",
            "43/50\n",
            "\u001b[1m157/157\u001b[0m \u001b[32m━━━━━━━━━━━━━━━━━━━━\u001b[0m\u001b[37m\u001b[0m \u001b[1m1s\u001b[0m 7ms/step - accuracy: 0.1261 - loss: 5.1131 - val_accuracy: 0.1626 - val_loss: 5.0237\n",
            "44/50\n",
            "\u001b[1m157/157\u001b[0m \u001b[32m━━━━━━━━━━━━━━━━━━━━\u001b[0m\u001b[37m\u001b[0m \u001b[1m1s\u001b[0m 7ms/step - accuracy: 0.1369 - loss: 5.0531 - val_accuracy: 0.1816 - val_loss: 4.8765\n",
            "45/50\n",
            "\u001b[1m157/157\u001b[0m \u001b[32m━━━━━━━━━━━━━━━━━━━━\u001b[0m\u001b[37m\u001b[0m \u001b[1m1s\u001b[0m 7ms/step - accuracy: 0.1391 - loss: 5.0568 - val_accuracy: 0.1712 - val_loss: 4.8910\n",
            "46/50\n",
            "\u001b[1m157/157\u001b[0m \u001b[32m━━━━━━━━━━━━━━━━━━━━\u001b[0m\u001b[37m\u001b[0m \u001b[1m1s\u001b[0m 7ms/step - accuracy: 0.1476 - loss: 4.9389 - val_accuracy: 0.1804 - val_loss: 4.8417\n",
            "47/50\n",
            "\u001b[1m157/157\u001b[0m \u001b[32m━━━━━━━━━━━━━━━━━━━━\u001b[0m\u001b[37m\u001b[0m \u001b[1m1s\u001b[0m 7ms/step - accuracy: 0.1552 - loss: 4.9124 - val_accuracy: 0.1818 - val_loss: 4.8212\n",
            "48/50\n",
            "\u001b[1m157/157\u001b[0m \u001b[32m━━━━━━━━━━━━━━━━━━━━\u001b[0m\u001b[37m\u001b[0m \u001b[1m1s\u001b[0m 7ms/step - accuracy: 0.1650 - loss: 4.8808 - val_accuracy: 0.2026 - val_loss: 4.7650\n",
            "49/50\n",
            "\u001b[1m157/157\u001b[0m \u001b[32m━━━━━━━━━━━━━━━━━━━━\u001b[0m\u001b[37m\u001b[0m \u001b[1m1s\u001b[0m 7ms/step - accuracy: 0.1745 - loss: 4.8382 - val_accuracy: 0.2006 - val_loss: 4.7549\n",
            "50/50\n",
            "\u001b[1m157/157\u001b[0m \u001b[32m━━━━━━━━━━━━━━━━━━━━\u001b[0m\u001b[37m\u001b[0m \u001b[1m1s\u001b[0m 7ms/step - accuracy: 0.1518 - loss: 4.9340 - val_accuracy: 0.2132 - val_loss: 4.6829\n",
            "\u001b[1m3125/3125\u001b[0m \u001b[32m━━━━━━━━━━━━━━━━━━━━\u001b[0m\u001b[37m\u001b[0m \u001b[1m5s\u001b[0m 2ms/step - accuracy: 0.2087 - loss: 4.6740\n",
            "Train set: Loss=4.6810 ; Accuracy=20.9%\n",
            "\u001b[1m3125/3125\u001b[0m \u001b[32m━━━━━━━━━━━━━━━━━━━━\u001b[0m\u001b[37m\u001b[0m \u001b[1m5s\u001b[0m 2ms/step - accuracy: 0.0430 - loss: 6.7520\n",
            "Test set: Loss=6.7475 ; Accuracy=4.3%\n",
            "Embeddings saved to embeddings.csv\n"
          ]
        }
      ],
      "source": [
        "from tensorflow.keras.models import Sequential\n",
        "from tensorflow.keras.layers import Dense, Dropout\n",
        "\n",
        "if True: # Generate embeddings?\n",
        "  eg = EmbeddingsGenerator(dg.user_train, pd.read_csv('ml-100k/u.data', sep='\\t', names=['userId', 'itemId', 'rating', 'timestamp']))\n",
        "  eg.train(nb_epochs=50)\n",
        "  train_loss, train_accuracy = eg.test(dg.user_train)\n",
        "  print('Train set: Loss=%.4f ; Accuracy=%.1f%%' % (train_loss, train_accuracy * 100))\n",
        "  test_loss, test_accuracy = eg.test(dg.user_test)\n",
        "  print('Test set: Loss=%.4f ; Accuracy=%.1f%%' % (test_loss, test_accuracy * 100))\n",
        "  eg.save_embeddings('embeddings.csv')"
      ]
    },
    {
      "cell_type": "code",
      "execution_count": 18,
      "metadata": {},
      "outputs": [
        {
          "name": "stdout",
          "output_type": "stream",
          "text": [
            "WARNING:tensorflow:From /Users/russellxia/Desktop/NYU_DS/RL/RL_Proj/rl_env/lib/python3.11/site-packages/tensorflow/python/compat/v2_compat.py:98: disable_resource_variables (from tensorflow.python.ops.resource_variables_toggle) is deprecated and will be removed in a future version.\n",
            "Instructions for updating:\n",
            "non-resource variables are not supported in the long term\n",
            "WARNING:tensorflow:From /var/folders/c6/jdy754rj7hj2s72qsv0132k00000gn/T/ipykernel_68395/1727956278.py:104: dynamic_rnn (from tensorflow.python.ops.rnn) is deprecated and will be removed in a future version.\n",
            "Instructions for updating:\n",
            "Please use `keras.layers.RNN(cell)`, which is equivalent to this API\n",
            "WARNING:tensorflow:From /Users/russellxia/Desktop/NYU_DS/RL/RL_Proj/rl_env/lib/python3.11/site-packages/tensorflow/python/keras/layers/legacy_rnn/rnn_cell_impl.py:584: calling Constant.__init__ (from tensorflow.python.ops.init_ops) with dtype is deprecated and will be removed in a future version.\n",
            "Instructions for updating:\n",
            "Call initializer instance with the dtype argument instead of passing it to the constructor\n",
            "WARNING:tensorflow:From /Users/russellxia/Desktop/NYU_DS/RL/RL_Proj/rl_env/lib/python3.11/site-packages/tensorflow/python/keras/layers/legacy_rnn/rnn_cell_impl.py:594: calling Zeros.__init__ (from tensorflow.python.ops.init_ops) with dtype is deprecated and will be removed in a future version.\n",
            "Instructions for updating:\n",
            "Call initializer instance with the dtype argument instead of passing it to the constructor\n"
          ]
        },
        {
          "name": "stderr",
          "output_type": "stream",
          "text": [
            "/Users/russellxia/Desktop/NYU_DS/RL/RL_Proj/rl_env/lib/python3.11/site-packages/tensorflow/python/keras/layers/legacy_rnn/rnn_cell_impl.py:536: UserWarning: `tf.nn.rnn_cell.GRUCell` is deprecated and will be removed in a future version. This class is equivalent as `tf.keras.layers.GRUCell`, and will be replaced by that in Tensorflow 2.0.\n",
            "  warnings.warn(\"`tf.nn.rnn_cell.GRUCell` is deprecated and will be removed \"\n",
            "/Users/russellxia/Desktop/NYU_DS/RL/RL_Proj/rl_env/lib/python3.11/site-packages/tensorflow/python/keras/engine/base_layer_v1.py:1702: UserWarning: `layer.add_variable` is deprecated and will be removed in a future version. Please use `layer.add_weight` method instead.\n",
            "  warnings.warn('`layer.add_variable` is deprecated and '\n",
            "WARNING: All log messages before absl::InitializeLog() is called are written to STDERR\n",
            "I0000 00:00:1745623680.187810 14081877 mlir_graph_optimization_pass.cc:425] MLIR V1 optimization pass is not enabled\n"
          ]
        },
        {
          "name": "stdout",
          "output_type": "stream",
          "text": [
            "Episode 1/5  Reward=1129.18  Time=1s  No replay\n",
            "Episode 2/5  Reward=1128.83  Time=1s  No replay\n",
            "Episode 3/5  Reward=1096.71  Time=61s  Loss=3347.3574\n",
            "Episode 4/5  Reward=1033.37  Time=129s  Loss=7671.4087\n",
            "Episode 5/5  Reward=876.45  Time=129s  Loss=4326.8823\n"
          ]
        }
      ],
      "source": [
        "import tensorflow.compat.v1 as tf\n",
        "tf.disable_v2_behavior()\n",
        "\n",
        "embeddings = Embeddings(embeddings_reading('embeddings.csv'))\n",
        "\n",
        "state_space_size = embeddings.size() * history_length\n",
        "action_space_size = embeddings.size() * ra_length\n",
        "\n",
        "environment = Environment(data, embeddings, alpha, gamma, fixed_length)\n",
        "\n",
        "# For multiple consecutive executions\n",
        "tf.compat.v1.reset_default_graph()\n",
        "sess = tf.compat.v1.Session()\n",
        "\n",
        "# Initialize actor network f_θ^π and critic network Q(s, a|θ^µ) with random weights\n",
        "actor = Actor(sess, state_space_size, action_space_size, batch_size, ra_length, history_length, embeddings.size(), tau, actor_lr)\n",
        "critic = Critic(sess, state_space_size, action_space_size, history_length, embeddings.size(), tau, critic_lr)\n",
        "\n",
        "train(sess, environment, actor, critic, embeddings, history_length, ra_length, buffer_size, batch_size, discount_factor, nb_episodes, filename_summary)"
      ]
    },
    {
      "cell_type": "markdown",
      "metadata": {
        "id": "Xji6iig5OUrM"
      },
      "source": [
        "## **9. Testing**"
      ]
    },
    {
      "cell_type": "markdown",
      "metadata": {
        "id": "SsqWwgaDGNkc"
      },
      "source": [
        "### Test on the Test dataset\n",
        "\n",
        "1. Using the test dataset and movie embeddings saved previously\n",
        "2. Using the well trained parameters of the final model obtained"
      ]
    },
    {
      "cell_type": "code",
      "execution_count": 20,
      "metadata": {
        "id": "4n8Y9ggBQXIL"
      },
      "outputs": [],
      "source": [
        "dict_embeddings = {}\n",
        "for i, item in enumerate(embeddings.get_embedding_vector()):\n",
        "  str_item = str(item)\n",
        "  assert(str_item not in dict_embeddings)\n",
        "  dict_embeddings[str_item] = i\n",
        "\n",
        "def state_to_items(state, actor, ra_length, embeddings, dict_embeddings, target=False):\n",
        "  return [dict_embeddings[str(action)]\n",
        "          for action in actor.get_recommendation_list(ra_length, np.array(state).reshape(1, -1), embeddings, target).reshape(ra_length, embeddings.size())]\n",
        "\n",
        "def test_actor(actor, test_df, embeddings, dict_embeddings, ra_length, history_length, target=False, nb_rounds=1):\n",
        "  ratings = []\n",
        "  unknown = 0\n",
        "  random_seen = []\n",
        "  for _ in range(nb_rounds):\n",
        "    for i in range(len(test_df)):\n",
        "      history_sample = list(test_df[i].sample(history_length)['itemId'])\n",
        "      recommendation = state_to_items(embeddings.embed(history_sample), actor, ra_length, embeddings, dict_embeddings, target)\n",
        "      for item in recommendation:\n",
        "        l = list(test_df[i].loc[test_df[i]['itemId'] == item]['rating'])\n",
        "        assert(len(l) < 2)\n",
        "        if len(l) == 0:\n",
        "          unknown += 1\n",
        "        else:\n",
        "          ratings.append(l[0])\n",
        "      for item in history_sample:\n",
        "        random_seen.append(list(test_df[i].loc[test_df[i]['itemId'] == item]['rating'])[0])\n",
        "\n",
        "  return ratings, unknown, random_seen"
      ]
    },
    {
      "cell_type": "markdown",
      "metadata": {
        "id": "IZqzMyXaQfMw"
      },
      "source": [
        "## **10. Performance Evaluation**"
      ]
    },
    {
      "cell_type": "markdown",
      "metadata": {
        "id": "jke7nJwMQ2wY"
      },
      "source": [
        "### Train Set"
      ]
    },
    {
      "cell_type": "markdown",
      "metadata": {
        "id": "-Wey91-YREfu"
      },
      "source": [
        "Target = False"
      ]
    },
    {
      "cell_type": "code",
      "execution_count": 22,
      "metadata": {
        "colab": {
          "base_uri": "https://localhost:8080/"
        },
        "id": "QV21TbBwQksO",
        "outputId": "7f62d9f6-2393-40ac-bab1-8c3bb73ecbb2"
      },
      "outputs": [
        {
          "name": "stdout",
          "output_type": "stream",
          "text": [
            "87.5% unknown\n"
          ]
        }
      ],
      "source": [
        "ratings, unknown, random_seen = test_actor(actor, dg.train, embeddings, dict_embeddings, ra_length, history_length, target=False, nb_rounds=2)\n",
        "print('%0.1f%% unknown' % (100 * unknown / (len(ratings) + unknown)))"
      ]
    },
    {
      "cell_type": "markdown",
      "metadata": {
        "id": "q3W8YBo2Id4N"
      },
      "source": [
        "Comparison between the actual predictions made by the model and the randomly generated predictions"
      ]
    },
    {
      "cell_type": "code",
      "execution_count": 23,
      "metadata": {
        "colab": {
          "base_uri": "https://localhost:8080/",
          "height": 281
        },
        "id": "nQfvoaztQzvg",
        "outputId": "ea42750f-eb03-438f-bf40-3887b5ead9b4"
      },
      "outputs": [
        {
          "data": {
            "image/png": "[encoded data removed]",
            "text/plain": [
              "<Figure size 640x480 with 2 Axes>"
            ]
          },
          "metadata": {},
          "output_type": "display_data"
        }
      ],
      "source": [
        "plt.subplot(1, 2, 1)\n",
        "plt.hist(ratings)\n",
        "plt.title('Predictions ; Mean = %.4f' % (np.mean(ratings)))\n",
        "plt.subplot(1, 2, 2)\n",
        "plt.hist(random_seen)\n",
        "plt.title('Random ; Mean = %.4f' % (np.mean(random_seen)))\n",
        "plt.show()"
      ]
    },
    {
      "cell_type": "markdown",
      "metadata": {
        "id": "XgtPZiWNQ5Wk"
      },
      "source": [
        "Target = True"
      ]
    },
    {
      "cell_type": "code",
      "execution_count": 24,
      "metadata": {
        "colab": {
          "base_uri": "https://localhost:8080/"
        },
        "id": "49JTyke9RIjO",
        "outputId": "9d294edd-47ee-49a2-c882-4978ac181ddb"
      },
      "outputs": [
        {
          "name": "stdout",
          "output_type": "stream",
          "text": [
            "86.3% unknown\n"
          ]
        }
      ],
      "source": [
        "ratings, unknown, random_seen = test_actor(actor, dg.train, embeddings, dict_embeddings, ra_length, history_length, target=True, nb_rounds=2)\n",
        "print('%0.1f%% unknown' % (100 * unknown / (len(ratings) + unknown)))"
      ]
    },
    {
      "cell_type": "code",
      "execution_count": 25,
      "metadata": {
        "colab": {
          "base_uri": "https://localhost:8080/",
          "height": 281
        },
        "id": "eUO7hCL-RK2p",
        "outputId": "8270fe39-bd8a-433a-d7b8-4ca916381115"
      },
      "outputs": [
        {
          "data": {
            "image/png": "[encoded data removed]",
            "text/plain": [
              "<Figure size 640x480 with 2 Axes>"
            ]
          },
          "metadata": {},
          "output_type": "display_data"
        }
      ],
      "source": [
        "plt.subplot(1, 2, 1)\n",
        "plt.hist(ratings)\n",
        "plt.title('Predictions ; Mean = %.4f' % (np.mean(ratings)))\n",
        "plt.subplot(1, 2, 2)\n",
        "plt.hist(random_seen)\n",
        "plt.title('Random ; Mean = %.4f' % (np.mean(random_seen)))\n",
        "plt.show()"
      ]
    },
    {
      "cell_type": "markdown",
      "metadata": {
        "id": "iCr-wsFaRNEv"
      },
      "source": [
        "### Test Set"
      ]
    },
    {
      "cell_type": "markdown",
      "metadata": {
        "id": "0MmfwzOPRX7h"
      },
      "source": [
        "Target = False"
      ]
    },
    {
      "cell_type": "code",
      "execution_count": 26,
      "metadata": {
        "colab": {
          "base_uri": "https://localhost:8080/"
        },
        "id": "bq5BYaz_RVu-",
        "outputId": "73ec88f0-3197-4c07-9f2b-cfe88985955c"
      },
      "outputs": [
        {
          "name": "stdout",
          "output_type": "stream",
          "text": [
            "87.8% unknown\n"
          ]
        }
      ],
      "source": [
        "ratings, unknown, random_seen = test_actor(actor, dg.test, embeddings, dict_embeddings, ra_length, history_length, target=False, nb_rounds=1)\n",
        "print('%0.1f%% unknown' % (100 * unknown / (len(ratings) + unknown)))"
      ]
    },
    {
      "cell_type": "markdown",
      "metadata": {
        "id": "9hEJ50TJInGV"
      },
      "source": [
        "Comparison between the actual predictions made by the model and the randomly generated predictions"
      ]
    },
    {
      "cell_type": "code",
      "execution_count": 27,
      "metadata": {
        "colab": {
          "base_uri": "https://localhost:8080/",
          "height": 281
        },
        "id": "_7TKGTFEReZ_",
        "outputId": "733b3928-3d18-4b8d-f15f-9a4b92e611dc"
      },
      "outputs": [
        {
          "data": {
            "image/png": "[encoded data removed]",
            "text/plain": [
              "<Figure size 640x480 with 2 Axes>"
            ]
          },
          "metadata": {},
          "output_type": "display_data"
        }
      ],
      "source": [
        "plt.subplot(1, 2, 1)\n",
        "plt.hist(ratings)\n",
        "plt.title('Predictions ; Mean = %.4f' % (np.mean(ratings)))\n",
        "plt.subplot(1, 2, 2)\n",
        "plt.hist(random_seen)\n",
        "plt.title('Random ; Mean = %.4f' % (np.mean(random_seen)))\n",
        "plt.show()"
      ]
    },
    {
      "cell_type": "markdown",
      "metadata": {
        "id": "VLebjkR0RhgS"
      },
      "source": [
        "Target = True"
      ]
    },
    {
      "cell_type": "code",
      "execution_count": 28,
      "metadata": {
        "colab": {
          "base_uri": "https://localhost:8080/"
        },
        "id": "PAzmOI0GRin-",
        "outputId": "d41d8cae-ad1e-4116-8fd1-8540045d8e8f"
      },
      "outputs": [
        {
          "ename": "IndexError",
          "evalue": "index 1682 is out of bounds for axis 0 with size 1682",
          "output_type": "error",
          "traceback": [
            "\u001b[31m---------------------------------------------------------------------------\u001b[39m",
            "\u001b[31mIndexError\u001b[39m                                Traceback (most recent call last)",
            "\u001b[36mCell\u001b[39m\u001b[36m \u001b[39m\u001b[32mIn[28]\u001b[39m\u001b[32m, line 1\u001b[39m\n\u001b[32m----> \u001b[39m\u001b[32m1\u001b[39m ratings, unknown, random_seen = \u001b[43mtest_actor\u001b[49m\u001b[43m(\u001b[49m\u001b[43mactor\u001b[49m\u001b[43m,\u001b[49m\u001b[43m \u001b[49m\u001b[43mdg\u001b[49m\u001b[43m.\u001b[49m\u001b[43mtest\u001b[49m\u001b[43m,\u001b[49m\u001b[43m \u001b[49m\u001b[43membeddings\u001b[49m\u001b[43m,\u001b[49m\u001b[43m \u001b[49m\u001b[43mdict_embeddings\u001b[49m\u001b[43m,\u001b[49m\u001b[43m \u001b[49m\u001b[43mra_length\u001b[49m\u001b[43m,\u001b[49m\u001b[43m \u001b[49m\u001b[43mhistory_length\u001b[49m\u001b[43m,\u001b[49m\u001b[43m \u001b[49m\u001b[43mtarget\u001b[49m\u001b[43m=\u001b[49m\u001b[38;5;28;43;01mTrue\u001b[39;49;00m\u001b[43m,\u001b[49m\u001b[43m \u001b[49m\u001b[43mnb_rounds\u001b[49m\u001b[43m=\u001b[49m\u001b[32;43m2\u001b[39;49m\u001b[43m)\u001b[49m\n\u001b[32m      2\u001b[39m \u001b[38;5;28mprint\u001b[39m(\u001b[33m'\u001b[39m\u001b[38;5;132;01m%0.1f\u001b[39;00m\u001b[38;5;132;01m%%\u001b[39;00m\u001b[33m unknown\u001b[39m\u001b[33m'\u001b[39m % (\u001b[32m100\u001b[39m * unknown / (\u001b[38;5;28mlen\u001b[39m(ratings) + unknown)))\n",
            "\u001b[36mCell\u001b[39m\u001b[36m \u001b[39m\u001b[32mIn[21]\u001b[39m\u001b[32m, line 18\u001b[39m, in \u001b[36mtest_actor\u001b[39m\u001b[34m(actor, test_df, embeddings, dict_embeddings, ra_length, history_length, target, nb_rounds)\u001b[39m\n\u001b[32m     16\u001b[39m \u001b[38;5;28;01mfor\u001b[39;00m i \u001b[38;5;129;01min\u001b[39;00m \u001b[38;5;28mrange\u001b[39m(\u001b[38;5;28mlen\u001b[39m(test_df)):\n\u001b[32m     17\u001b[39m   history_sample = \u001b[38;5;28mlist\u001b[39m(test_df[i].sample(history_length)[\u001b[33m'\u001b[39m\u001b[33mitemId\u001b[39m\u001b[33m'\u001b[39m])\n\u001b[32m---> \u001b[39m\u001b[32m18\u001b[39m   recommendation = state_to_items(\u001b[43membeddings\u001b[49m\u001b[43m.\u001b[49m\u001b[43membed\u001b[49m\u001b[43m(\u001b[49m\u001b[43mhistory_sample\u001b[49m\u001b[43m)\u001b[49m, actor, ra_length, embeddings, dict_embeddings, target)\n\u001b[32m     19\u001b[39m   \u001b[38;5;28;01mfor\u001b[39;00m item \u001b[38;5;129;01min\u001b[39;00m recommendation:\n\u001b[32m     20\u001b[39m     l = \u001b[38;5;28mlist\u001b[39m(test_df[i].loc[test_df[i][\u001b[33m'\u001b[39m\u001b[33mitemId\u001b[39m\u001b[33m'\u001b[39m] == item][\u001b[33m'\u001b[39m\u001b[33mrating\u001b[39m\u001b[33m'\u001b[39m])\n",
            "\u001b[36mCell\u001b[39m\u001b[36m \u001b[39m\u001b[32mIn[5]\u001b[39m\u001b[32m, line 15\u001b[39m, in \u001b[36mEmbeddings.embed\u001b[39m\u001b[34m(self, item_list)\u001b[39m\n\u001b[32m     14\u001b[39m \u001b[38;5;28;01mdef\u001b[39;00m\u001b[38;5;250m \u001b[39m\u001b[34membed\u001b[39m(\u001b[38;5;28mself\u001b[39m, item_list):\n\u001b[32m---> \u001b[39m\u001b[32m15\u001b[39m   \u001b[38;5;28;01mreturn\u001b[39;00m np.array(\u001b[43m[\u001b[49m\u001b[38;5;28;43mself\u001b[39;49m\u001b[43m.\u001b[49m\u001b[43mget_embedding\u001b[49m\u001b[43m(\u001b[49m\u001b[43mitem\u001b[49m\u001b[43m)\u001b[49m\u001b[43m \u001b[49m\u001b[38;5;28;43;01mfor\u001b[39;49;00m\u001b[43m \u001b[49m\u001b[43mitem\u001b[49m\u001b[43m \u001b[49m\u001b[38;5;129;43;01min\u001b[39;49;00m\u001b[43m \u001b[49m\u001b[43mitem_list\u001b[49m\u001b[43m]\u001b[49m)\n",
            "\u001b[36mCell\u001b[39m\u001b[36m \u001b[39m\u001b[32mIn[5]\u001b[39m\u001b[32m, line 15\u001b[39m, in \u001b[36m<listcomp>\u001b[39m\u001b[34m(.0)\u001b[39m\n\u001b[32m     14\u001b[39m \u001b[38;5;28;01mdef\u001b[39;00m\u001b[38;5;250m \u001b[39m\u001b[34membed\u001b[39m(\u001b[38;5;28mself\u001b[39m, item_list):\n\u001b[32m---> \u001b[39m\u001b[32m15\u001b[39m   \u001b[38;5;28;01mreturn\u001b[39;00m np.array([\u001b[38;5;28;43mself\u001b[39;49m\u001b[43m.\u001b[49m\u001b[43mget_embedding\u001b[49m\u001b[43m(\u001b[49m\u001b[43mitem\u001b[49m\u001b[43m)\u001b[49m \u001b[38;5;28;01mfor\u001b[39;00m item \u001b[38;5;129;01min\u001b[39;00m item_list])\n",
            "\u001b[36mCell\u001b[39m\u001b[36m \u001b[39m\u001b[32mIn[5]\u001b[39m\u001b[32m, line 12\u001b[39m, in \u001b[36mEmbeddings.get_embedding\u001b[39m\u001b[34m(self, item_index)\u001b[39m\n\u001b[32m     11\u001b[39m \u001b[38;5;28;01mdef\u001b[39;00m\u001b[38;5;250m \u001b[39m\u001b[34mget_embedding\u001b[39m(\u001b[38;5;28mself\u001b[39m, item_index):\n\u001b[32m---> \u001b[39m\u001b[32m12\u001b[39m   \u001b[38;5;28;01mreturn\u001b[39;00m \u001b[38;5;28;43mself\u001b[39;49m\u001b[43m.\u001b[49m\u001b[43mitem_embeddings\u001b[49m\u001b[43m[\u001b[49m\u001b[43mitem_index\u001b[49m\u001b[43m]\u001b[49m\n",
            "\u001b[31mIndexError\u001b[39m: index 1682 is out of bounds for axis 0 with size 1682"
          ]
        }
      ],
      "source": [
        "ratings, unknown, random_seen = test_actor(actor, dg.test, embeddings, dict_embeddings, ra_length, history_length, target=True, nb_rounds=2)\n",
        "print('%0.1f%% unknown' % (100 * unknown / (len(ratings) + unknown)))"
      ]
    },
    {
      "cell_type": "code",
      "execution_count": 63,
      "metadata": {
        "colab": {
          "base_uri": "https://localhost:8080/",
          "height": 281
        },
        "id": "_whyIwm5RlCq",
        "outputId": "4bf28f2d-8305-482e-a0b2-f331a76eb1eb"
      },
      "outputs": [
        {
          "data": {
            "image/png": "[encoded data removed]",
            "text/plain": [
              "<Figure size 640x480 with 2 Axes>"
            ]
          },
          "metadata": {},
          "output_type": "display_data"
        }
      ],
      "source": [
        "plt.subplot(1, 2, 1)\n",
        "plt.hist(ratings)\n",
        "plt.title('Predictions ; Mean = %.4f' % (np.mean(ratings)))\n",
        "plt.subplot(1, 2, 2)\n",
        "plt.hist(random_seen)\n",
        "plt.title('Random ; Mean = %.4f' % (np.mean(random_seen)))\n",
        "plt.show()"
      ]
    },
    {
      "cell_type": "markdown",
      "metadata": {
        "id": "0OAYZHI1H1X7"
      },
      "source": [
        "#### Ranking Metrics Evaluation"
      ]
    },
    {
      "cell_type": "code",
      "execution_count": 21,
      "metadata": {},
      "outputs": [
        {
          "name": "stdout",
          "output_type": "stream",
          "text": [
            "{'Precision@K': np.float64(0.06931216931216931), 'Recall@K': np.float64(0.018200725486262666), 'NDCG@K': np.float64(0.0758633949302683), 'MAP': np.float64(0.009444843389077116)}\n"
          ]
        }
      ],
      "source": [
        "# --- ranking metrics ---\n",
        "def precision_at_k(rec, relevant, k):\n",
        "    return len(set(rec[:k]) & set(relevant)) / k\n",
        "\n",
        "def recall_at_k(rec, relevant, k):\n",
        "    return len(set(rec[:k]) & set(relevant)) / len(relevant) if relevant else 0.0\n",
        "\n",
        "def dcg_at_k(rec, rel_scores, k):\n",
        "    \"\"\"\n",
        "    rec: list of itemIDs\n",
        "    rel_scores: dict[itemID] -> rating \n",
        "    \"\"\"\n",
        "    dcg = 0.0\n",
        "    for i, item in enumerate(rec[:k]):\n",
        "        rel = rel_scores.get(item, 0)\n",
        "        dcg += (2**rel - 1) / np.log2(i + 2)\n",
        "    return dcg\n",
        "\n",
        "def idcg_at_k(rel_scores, k):\n",
        "    # ideal DCG from sorting true ratings\n",
        "    sorted_rels = sorted(rel_scores.values(), reverse=True)[:k]\n",
        "    idcg = sum((2**r - 1) / np.log2(i + 2) \n",
        "               for i, r in enumerate(sorted_rels))\n",
        "    return idcg\n",
        "\n",
        "def ndcg_at_k(rec, rel_scores, k):\n",
        "    idcg = idcg_at_k(rel_scores, k)\n",
        "    return dcg_at_k(rec, rel_scores, k) / idcg if idcg > 0 else 0.0\n",
        "\n",
        "def average_precision(rec, relevant):\n",
        "    hits = 0\n",
        "    sum_prec = 0.0\n",
        "    for i, item in enumerate(rec):\n",
        "        if item in relevant:\n",
        "            hits += 1\n",
        "            sum_prec += hits / (i + 1)\n",
        "    return sum_prec / len(relevant) if relevant else 0.0\n",
        "\n",
        "# --- full test loop ---\n",
        "def evaluate(actor, test_df, embeddings, dict_embeddings,\n",
        "             ra_length, history_length, rating_threshold=4):\n",
        "    P, R, NDCG, AP = [], [], [], []\n",
        "    for user_df in test_df:\n",
        "        # 1) build user history & true set\n",
        "        hist = list(user_df.sample(history_length)['itemId'])\n",
        "        true_ratings = user_df.set_index('itemId')['rating'].to_dict()\n",
        "        relevant = [i for i, r in true_ratings.items() if r >= rating_threshold]\n",
        "        \n",
        "        # 2) get recommendations from your actor\n",
        "        state_emb = embeddings.embed(hist)  # flatten & embed history\n",
        "        recs = state_to_items(\n",
        "            state_emb, actor, ra_length, embeddings, dict_embeddings, target=False\n",
        "        )\n",
        "        \n",
        "        # 3) compute metrics\n",
        "        P.append(precision_at_k(recs, relevant, ra_length))\n",
        "        R.append(recall_at_k(recs, relevant, ra_length))\n",
        "        NDCG.append(ndcg_at_k(recs, true_ratings, ra_length))\n",
        "        AP.append(average_precision(recs, relevant))\n",
        "    \n",
        "    return {\n",
        "        'Precision@K': np.mean(P),\n",
        "        'Recall@K':    np.mean(R),\n",
        "        'NDCG@K':      np.mean(NDCG),\n",
        "        'MAP':         np.mean(AP),\n",
        "    }\n",
        "\n",
        "# --- run it ---\n",
        "metrics = evaluate(\n",
        "    actor,\n",
        "    dg.test,           \n",
        "    embeddings,\n",
        "    dict_embeddings,\n",
        "    ra_length,\n",
        "    history_length,\n",
        "    rating_threshold=4  # consider rating ≥4 as “relevant”\n",
        ")\n",
        "\n",
        "print(metrics)\n"
      ]
    }
  ],
  "metadata": {
    "colab": {
      "collapsed_sections": [],
      "name": "Final_edited_version.ipynb",
      "provenance": []
    },
    "kernelspec": {
      "display_name": "Python 3",
      "name": "python3"
    },
    "language_info": {
      "codemirror_mode": {
        "name": "ipython",
        "version": 3
      },
      "file_extension": ".py",
      "mimetype": "text/x-python",
      "name": "python",
      "nbconvert_exporter": "python",
      "pygments_lexer": "ipython3",
      "version": "3.11.0"
    }
  },
  "nbformat": 4,
  "nbformat_minor": 0
}
